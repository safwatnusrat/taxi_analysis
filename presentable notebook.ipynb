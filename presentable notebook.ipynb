{
 "cells": [
  {
   "cell_type": "code",
   "execution_count": 1,
   "id": "fa8f52e9-5b9b-48ee-ae7d-555e48d399a0",
   "metadata": {},
   "outputs": [],
   "source": [
    "import pandas as pd\n",
    "import numpy as np"
   ]
  },
  {
   "cell_type": "code",
   "execution_count": 2,
   "id": "1fa02aec-7c86-4882-bef8-53241757f51f",
   "metadata": {},
   "outputs": [],
   "source": [
    "taxi_df = pd.read_parquet(r'C:\\Users\\ASUS\\Desktop\\texi-analysis\\data\\yellow_tripdata_2019-01.parquet')\n",
    "taxi_data=pd.concat([taxi_df])\n"
   ]
  },
  {
   "cell_type": "code",
   "execution_count": 3,
   "id": "0b3dc1ff",
   "metadata": {},
   "outputs": [
    {
     "name": "stdout",
     "output_type": "stream",
     "text": [
      "(7696617, 19)\n"
     ]
    },
    {
     "data": {
      "text/html": [
       "<div>\n",
       "<style scoped>\n",
       "    .dataframe tbody tr th:only-of-type {\n",
       "        vertical-align: middle;\n",
       "    }\n",
       "\n",
       "    .dataframe tbody tr th {\n",
       "        vertical-align: top;\n",
       "    }\n",
       "\n",
       "    .dataframe thead th {\n",
       "        text-align: right;\n",
       "    }\n",
       "</style>\n",
       "<table border=\"1\" class=\"dataframe\">\n",
       "  <thead>\n",
       "    <tr style=\"text-align: right;\">\n",
       "      <th></th>\n",
       "      <th>VendorID</th>\n",
       "      <th>tpep_pickup_datetime</th>\n",
       "      <th>tpep_dropoff_datetime</th>\n",
       "      <th>passenger_count</th>\n",
       "      <th>trip_distance</th>\n",
       "      <th>RatecodeID</th>\n",
       "      <th>store_and_fwd_flag</th>\n",
       "      <th>PULocationID</th>\n",
       "      <th>DOLocationID</th>\n",
       "      <th>payment_type</th>\n",
       "      <th>fare_amount</th>\n",
       "      <th>extra</th>\n",
       "      <th>mta_tax</th>\n",
       "      <th>tip_amount</th>\n",
       "      <th>tolls_amount</th>\n",
       "      <th>improvement_surcharge</th>\n",
       "      <th>total_amount</th>\n",
       "      <th>congestion_surcharge</th>\n",
       "      <th>airport_fee</th>\n",
       "    </tr>\n",
       "  </thead>\n",
       "  <tbody>\n",
       "    <tr>\n",
       "      <th>0</th>\n",
       "      <td>1</td>\n",
       "      <td>2019-01-01 00:46:40</td>\n",
       "      <td>2019-01-01 00:53:20</td>\n",
       "      <td>1.0</td>\n",
       "      <td>1.5</td>\n",
       "      <td>1.0</td>\n",
       "      <td>N</td>\n",
       "      <td>151</td>\n",
       "      <td>239</td>\n",
       "      <td>1</td>\n",
       "      <td>7.0</td>\n",
       "      <td>0.5</td>\n",
       "      <td>0.5</td>\n",
       "      <td>1.65</td>\n",
       "      <td>0.0</td>\n",
       "      <td>0.3</td>\n",
       "      <td>9.95</td>\n",
       "      <td>NaN</td>\n",
       "      <td>None</td>\n",
       "    </tr>\n",
       "    <tr>\n",
       "      <th>1</th>\n",
       "      <td>1</td>\n",
       "      <td>2019-01-01 00:59:47</td>\n",
       "      <td>2019-01-01 01:18:59</td>\n",
       "      <td>1.0</td>\n",
       "      <td>2.6</td>\n",
       "      <td>1.0</td>\n",
       "      <td>N</td>\n",
       "      <td>239</td>\n",
       "      <td>246</td>\n",
       "      <td>1</td>\n",
       "      <td>14.0</td>\n",
       "      <td>0.5</td>\n",
       "      <td>0.5</td>\n",
       "      <td>1.00</td>\n",
       "      <td>0.0</td>\n",
       "      <td>0.3</td>\n",
       "      <td>16.30</td>\n",
       "      <td>NaN</td>\n",
       "      <td>None</td>\n",
       "    </tr>\n",
       "    <tr>\n",
       "      <th>2</th>\n",
       "      <td>2</td>\n",
       "      <td>2018-12-21 13:48:30</td>\n",
       "      <td>2018-12-21 13:52:40</td>\n",
       "      <td>3.0</td>\n",
       "      <td>0.0</td>\n",
       "      <td>1.0</td>\n",
       "      <td>N</td>\n",
       "      <td>236</td>\n",
       "      <td>236</td>\n",
       "      <td>1</td>\n",
       "      <td>4.5</td>\n",
       "      <td>0.5</td>\n",
       "      <td>0.5</td>\n",
       "      <td>0.00</td>\n",
       "      <td>0.0</td>\n",
       "      <td>0.3</td>\n",
       "      <td>5.80</td>\n",
       "      <td>NaN</td>\n",
       "      <td>None</td>\n",
       "    </tr>\n",
       "    <tr>\n",
       "      <th>3</th>\n",
       "      <td>2</td>\n",
       "      <td>2018-11-28 15:52:25</td>\n",
       "      <td>2018-11-28 15:55:45</td>\n",
       "      <td>5.0</td>\n",
       "      <td>0.0</td>\n",
       "      <td>1.0</td>\n",
       "      <td>N</td>\n",
       "      <td>193</td>\n",
       "      <td>193</td>\n",
       "      <td>2</td>\n",
       "      <td>3.5</td>\n",
       "      <td>0.5</td>\n",
       "      <td>0.5</td>\n",
       "      <td>0.00</td>\n",
       "      <td>0.0</td>\n",
       "      <td>0.3</td>\n",
       "      <td>7.55</td>\n",
       "      <td>NaN</td>\n",
       "      <td>None</td>\n",
       "    </tr>\n",
       "    <tr>\n",
       "      <th>4</th>\n",
       "      <td>2</td>\n",
       "      <td>2018-11-28 15:56:57</td>\n",
       "      <td>2018-11-28 15:58:33</td>\n",
       "      <td>5.0</td>\n",
       "      <td>0.0</td>\n",
       "      <td>2.0</td>\n",
       "      <td>N</td>\n",
       "      <td>193</td>\n",
       "      <td>193</td>\n",
       "      <td>2</td>\n",
       "      <td>52.0</td>\n",
       "      <td>0.0</td>\n",
       "      <td>0.5</td>\n",
       "      <td>0.00</td>\n",
       "      <td>0.0</td>\n",
       "      <td>0.3</td>\n",
       "      <td>55.55</td>\n",
       "      <td>NaN</td>\n",
       "      <td>None</td>\n",
       "    </tr>\n",
       "  </tbody>\n",
       "</table>\n",
       "</div>"
      ],
      "text/plain": [
       "   VendorID tpep_pickup_datetime tpep_dropoff_datetime  passenger_count  \\\n",
       "0         1  2019-01-01 00:46:40   2019-01-01 00:53:20              1.0   \n",
       "1         1  2019-01-01 00:59:47   2019-01-01 01:18:59              1.0   \n",
       "2         2  2018-12-21 13:48:30   2018-12-21 13:52:40              3.0   \n",
       "3         2  2018-11-28 15:52:25   2018-11-28 15:55:45              5.0   \n",
       "4         2  2018-11-28 15:56:57   2018-11-28 15:58:33              5.0   \n",
       "\n",
       "   trip_distance  RatecodeID store_and_fwd_flag  PULocationID  DOLocationID  \\\n",
       "0            1.5         1.0                  N           151           239   \n",
       "1            2.6         1.0                  N           239           246   \n",
       "2            0.0         1.0                  N           236           236   \n",
       "3            0.0         1.0                  N           193           193   \n",
       "4            0.0         2.0                  N           193           193   \n",
       "\n",
       "   payment_type  fare_amount  extra  mta_tax  tip_amount  tolls_amount  \\\n",
       "0             1          7.0    0.5      0.5        1.65           0.0   \n",
       "1             1         14.0    0.5      0.5        1.00           0.0   \n",
       "2             1          4.5    0.5      0.5        0.00           0.0   \n",
       "3             2          3.5    0.5      0.5        0.00           0.0   \n",
       "4             2         52.0    0.0      0.5        0.00           0.0   \n",
       "\n",
       "   improvement_surcharge  total_amount  congestion_surcharge airport_fee  \n",
       "0                    0.3          9.95                   NaN        None  \n",
       "1                    0.3         16.30                   NaN        None  \n",
       "2                    0.3          5.80                   NaN        None  \n",
       "3                    0.3          7.55                   NaN        None  \n",
       "4                    0.3         55.55                   NaN        None  "
      ]
     },
     "execution_count": 3,
     "metadata": {},
     "output_type": "execute_result"
    }
   ],
   "source": [
    "print(taxi_data.shape)\n",
    "taxi_data.head()"
   ]
  },
  {
   "cell_type": "code",
   "execution_count": 4,
   "id": "0a759341",
   "metadata": {},
   "outputs": [
    {
     "data": {
      "text/plain": [
       "Index(['VendorID', 'tpep_pickup_datetime', 'tpep_dropoff_datetime',\n",
       "       'passenger_count', 'trip_distance', 'RatecodeID', 'store_and_fwd_flag',\n",
       "       'PULocationID', 'DOLocationID', 'payment_type', 'fare_amount', 'extra',\n",
       "       'mta_tax', 'tip_amount', 'tolls_amount', 'improvement_surcharge',\n",
       "       'total_amount', 'congestion_surcharge', 'airport_fee'],\n",
       "      dtype='object')"
      ]
     },
     "execution_count": 4,
     "metadata": {},
     "output_type": "execute_result"
    }
   ],
   "source": [
    "taxi_data.columns"
   ]
  },
  {
   "cell_type": "code",
   "execution_count": 5,
   "id": "8662482d",
   "metadata": {},
   "outputs": [],
   "source": [
    "taxi_data=taxi_data[['tpep_pickup_datetime', 'tpep_dropoff_datetime',\n",
    "       'passenger_count', 'trip_distance','RatecodeID','PULocationID', 'DOLocationID', 'payment_type','total_amount']]"
   ]
  },
  {
   "cell_type": "code",
   "execution_count": 6,
   "id": "5bfc2688",
   "metadata": {},
   "outputs": [
    {
     "data": {
      "text/html": [
       "<div>\n",
       "<style scoped>\n",
       "    .dataframe tbody tr th:only-of-type {\n",
       "        vertical-align: middle;\n",
       "    }\n",
       "\n",
       "    .dataframe tbody tr th {\n",
       "        vertical-align: top;\n",
       "    }\n",
       "\n",
       "    .dataframe thead th {\n",
       "        text-align: right;\n",
       "    }\n",
       "</style>\n",
       "<table border=\"1\" class=\"dataframe\">\n",
       "  <thead>\n",
       "    <tr style=\"text-align: right;\">\n",
       "      <th></th>\n",
       "      <th>tpep_pickup_datetime</th>\n",
       "      <th>tpep_dropoff_datetime</th>\n",
       "      <th>passenger_count</th>\n",
       "      <th>trip_distance</th>\n",
       "      <th>RatecodeID</th>\n",
       "      <th>PULocationID</th>\n",
       "      <th>DOLocationID</th>\n",
       "      <th>payment_type</th>\n",
       "      <th>total_amount</th>\n",
       "    </tr>\n",
       "  </thead>\n",
       "  <tbody>\n",
       "    <tr>\n",
       "      <th>0</th>\n",
       "      <td>2019-01-01 00:46:40</td>\n",
       "      <td>2019-01-01 00:53:20</td>\n",
       "      <td>1.0</td>\n",
       "      <td>1.5</td>\n",
       "      <td>1.0</td>\n",
       "      <td>151</td>\n",
       "      <td>239</td>\n",
       "      <td>1</td>\n",
       "      <td>9.95</td>\n",
       "    </tr>\n",
       "    <tr>\n",
       "      <th>1</th>\n",
       "      <td>2019-01-01 00:59:47</td>\n",
       "      <td>2019-01-01 01:18:59</td>\n",
       "      <td>1.0</td>\n",
       "      <td>2.6</td>\n",
       "      <td>1.0</td>\n",
       "      <td>239</td>\n",
       "      <td>246</td>\n",
       "      <td>1</td>\n",
       "      <td>16.30</td>\n",
       "    </tr>\n",
       "    <tr>\n",
       "      <th>2</th>\n",
       "      <td>2018-12-21 13:48:30</td>\n",
       "      <td>2018-12-21 13:52:40</td>\n",
       "      <td>3.0</td>\n",
       "      <td>0.0</td>\n",
       "      <td>1.0</td>\n",
       "      <td>236</td>\n",
       "      <td>236</td>\n",
       "      <td>1</td>\n",
       "      <td>5.80</td>\n",
       "    </tr>\n",
       "    <tr>\n",
       "      <th>3</th>\n",
       "      <td>2018-11-28 15:52:25</td>\n",
       "      <td>2018-11-28 15:55:45</td>\n",
       "      <td>5.0</td>\n",
       "      <td>0.0</td>\n",
       "      <td>1.0</td>\n",
       "      <td>193</td>\n",
       "      <td>193</td>\n",
       "      <td>2</td>\n",
       "      <td>7.55</td>\n",
       "    </tr>\n",
       "    <tr>\n",
       "      <th>4</th>\n",
       "      <td>2018-11-28 15:56:57</td>\n",
       "      <td>2018-11-28 15:58:33</td>\n",
       "      <td>5.0</td>\n",
       "      <td>0.0</td>\n",
       "      <td>2.0</td>\n",
       "      <td>193</td>\n",
       "      <td>193</td>\n",
       "      <td>2</td>\n",
       "      <td>55.55</td>\n",
       "    </tr>\n",
       "  </tbody>\n",
       "</table>\n",
       "</div>"
      ],
      "text/plain": [
       "  tpep_pickup_datetime tpep_dropoff_datetime  passenger_count  trip_distance  \\\n",
       "0  2019-01-01 00:46:40   2019-01-01 00:53:20              1.0            1.5   \n",
       "1  2019-01-01 00:59:47   2019-01-01 01:18:59              1.0            2.6   \n",
       "2  2018-12-21 13:48:30   2018-12-21 13:52:40              3.0            0.0   \n",
       "3  2018-11-28 15:52:25   2018-11-28 15:55:45              5.0            0.0   \n",
       "4  2018-11-28 15:56:57   2018-11-28 15:58:33              5.0            0.0   \n",
       "\n",
       "   RatecodeID  PULocationID  DOLocationID  payment_type  total_amount  \n",
       "0         1.0           151           239             1          9.95  \n",
       "1         1.0           239           246             1         16.30  \n",
       "2         1.0           236           236             1          5.80  \n",
       "3         1.0           193           193             2          7.55  \n",
       "4         2.0           193           193             2         55.55  "
      ]
     },
     "execution_count": 6,
     "metadata": {},
     "output_type": "execute_result"
    }
   ],
   "source": [
    "taxi_data.head()"
   ]
  },
  {
   "cell_type": "code",
   "execution_count": 7,
   "id": "f274eb66",
   "metadata": {},
   "outputs": [
    {
     "data": {
      "text/plain": [
       "array([[<Axes: title={'center': 'tpep_pickup_datetime'}>,\n",
       "        <Axes: title={'center': 'tpep_dropoff_datetime'}>,\n",
       "        <Axes: title={'center': 'passenger_count'}>],\n",
       "       [<Axes: title={'center': 'trip_distance'}>,\n",
       "        <Axes: title={'center': 'RatecodeID'}>,\n",
       "        <Axes: title={'center': 'PULocationID'}>],\n",
       "       [<Axes: title={'center': 'DOLocationID'}>,\n",
       "        <Axes: title={'center': 'payment_type'}>,\n",
       "        <Axes: title={'center': 'total_amount'}>]], dtype=object)"
      ]
     },
     "execution_count": 7,
     "metadata": {},
     "output_type": "execute_result"
    },
    {
     "data": {
      "image/png": "[encoded data removed]",
      "text/plain": [
       "<Figure size 2000x1000 with 9 Axes>"
      ]
     },
     "metadata": {},
     "output_type": "display_data"
    }
   ],
   "source": [
    "taxi_data.hist(figsize=(20,10),bins=60)"
   ]
  },
  {
   "cell_type": "code",
   "execution_count": 8,
   "id": "8507c324",
   "metadata": {},
   "outputs": [
    {
     "data": {
      "text/plain": [
       "RatecodeID\n",
       "1.0     7430288\n",
       "2.0      166093\n",
       "5.0       54570\n",
       "3.0       11801\n",
       "4.0        4895\n",
       "99.0        252\n",
       "6.0          46\n",
       "Name: count, dtype: int64"
      ]
     },
     "execution_count": 8,
     "metadata": {},
     "output_type": "execute_result"
    }
   ],
   "source": [
    "taxi_data['RatecodeID'].value_counts()"
   ]
  },
  {
   "cell_type": "code",
   "execution_count": 9,
   "id": "46f961cc",
   "metadata": {},
   "outputs": [
    {
     "data": {
      "text/plain": [
       "<Axes: xlabel='index', ylabel='total_amount'>"
      ]
     },
     "execution_count": 9,
     "metadata": {},
     "output_type": "execute_result"
    },
    {
     "data": {
      "image/png": "[encoded data removed]",
      "text/plain": [
       "<Figure size 1000x500 with 1 Axes>"
      ]
     },
     "metadata": {},
     "output_type": "display_data"
    }
   ],
   "source": [
    "taxi_data.reset_index().plot(kind='scatter' ,x='index',y='total_amount' ,figsize=(10,5))"
   ]
  },
  {
   "cell_type": "code",
   "execution_count": 10,
   "id": "3463e645",
   "metadata": {},
   "outputs": [
    {
     "data": {
      "text/plain": [
       "<Axes: xlabel='index', ylabel='total_amount'>"
      ]
     },
     "execution_count": 10,
     "metadata": {},
     "output_type": "execute_result"
    },
    {
     "data": {
      "image/png": "[encoded data removed]",
      "text/plain": [
       "<Figure size 1000x500 with 1 Axes>"
      ]
     },
     "metadata": {},
     "output_type": "display_data"
    }
   ],
   "source": [
    "taxi_data[taxi_data['total_amount']<1000].reset_index().plot(kind='scatter',x='index',y='total_amount',figsize=(10,5))"
   ]
  },
  {
   "cell_type": "code",
   "execution_count": 11,
   "id": "7144d470",
   "metadata": {},
   "outputs": [
    {
     "name": "stdout",
     "output_type": "stream",
     "text": [
      "(7127, 9)\n"
     ]
    }
   ],
   "source": [
    "print(taxi_data[taxi_data['total_amount']<0].shape)"
   ]
  },
  {
   "cell_type": "code",
   "execution_count": 12,
   "id": "e4d85009",
   "metadata": {},
   "outputs": [
    {
     "data": {
      "text/plain": [
       "<Axes: xlabel='index', ylabel='total_amount'>"
      ]
     },
     "execution_count": 12,
     "metadata": {},
     "output_type": "execute_result"
    },
    {
     "data": {
      "image/png": "[encoded data removed]",
      "text/plain": [
       "<Figure size 1000x500 with 1 Axes>"
      ]
     },
     "metadata": {},
     "output_type": "display_data"
    }
   ],
   "source": [
    "taxi_data[taxi_data['total_amount']<0].reset_index().plot(kind='scatter',x='index',y='total_amount',figsize=(10,5))"
   ]
  },
  {
   "cell_type": "code",
   "execution_count": 13,
   "id": "3213bbea",
   "metadata": {},
   "outputs": [
    {
     "data": {
      "text/html": [
       "<div>\n",
       "<style scoped>\n",
       "    .dataframe tbody tr th:only-of-type {\n",
       "        vertical-align: middle;\n",
       "    }\n",
       "\n",
       "    .dataframe tbody tr th {\n",
       "        vertical-align: top;\n",
       "    }\n",
       "\n",
       "    .dataframe thead th {\n",
       "        text-align: right;\n",
       "    }\n",
       "</style>\n",
       "<table border=\"1\" class=\"dataframe\">\n",
       "  <thead>\n",
       "    <tr style=\"text-align: right;\">\n",
       "      <th></th>\n",
       "      <th>tpep_pickup_datetime</th>\n",
       "      <th>tpep_dropoff_datetime</th>\n",
       "      <th>passenger_count</th>\n",
       "      <th>trip_distance</th>\n",
       "      <th>RatecodeID</th>\n",
       "      <th>PULocationID</th>\n",
       "      <th>DOLocationID</th>\n",
       "      <th>payment_type</th>\n",
       "      <th>total_amount</th>\n",
       "    </tr>\n",
       "  </thead>\n",
       "  <tbody>\n",
       "    <tr>\n",
       "      <th>663</th>\n",
       "      <td>2019-01-01 00:32:56</td>\n",
       "      <td>2019-01-01 00:33:35</td>\n",
       "      <td>2.0</td>\n",
       "      <td>0.10</td>\n",
       "      <td>1.0</td>\n",
       "      <td>148</td>\n",
       "      <td>148</td>\n",
       "      <td>3</td>\n",
       "      <td>-3.8</td>\n",
       "    </tr>\n",
       "    <tr>\n",
       "      <th>2402</th>\n",
       "      <td>2019-01-01 00:14:18</td>\n",
       "      <td>2019-01-01 00:40:55</td>\n",
       "      <td>1.0</td>\n",
       "      <td>4.13</td>\n",
       "      <td>1.0</td>\n",
       "      <td>170</td>\n",
       "      <td>238</td>\n",
       "      <td>4</td>\n",
       "      <td>-20.3</td>\n",
       "    </tr>\n",
       "    <tr>\n",
       "      <th>2541</th>\n",
       "      <td>2019-01-01 00:31:27</td>\n",
       "      <td>2019-01-01 00:42:39</td>\n",
       "      <td>1.0</td>\n",
       "      <td>1.35</td>\n",
       "      <td>1.0</td>\n",
       "      <td>162</td>\n",
       "      <td>234</td>\n",
       "      <td>4</td>\n",
       "      <td>-9.8</td>\n",
       "    </tr>\n",
       "    <tr>\n",
       "      <th>2544</th>\n",
       "      <td>2019-01-01 00:45:57</td>\n",
       "      <td>2019-01-01 00:46:07</td>\n",
       "      <td>1.0</td>\n",
       "      <td>0.00</td>\n",
       "      <td>1.0</td>\n",
       "      <td>234</td>\n",
       "      <td>234</td>\n",
       "      <td>4</td>\n",
       "      <td>-3.8</td>\n",
       "    </tr>\n",
       "    <tr>\n",
       "      <th>2547</th>\n",
       "      <td>2019-01-01 00:48:35</td>\n",
       "      <td>2019-01-01 00:49:59</td>\n",
       "      <td>1.0</td>\n",
       "      <td>0.16</td>\n",
       "      <td>1.0</td>\n",
       "      <td>234</td>\n",
       "      <td>234</td>\n",
       "      <td>4</td>\n",
       "      <td>-4.3</td>\n",
       "    </tr>\n",
       "  </tbody>\n",
       "</table>\n",
       "</div>"
      ],
      "text/plain": [
       "     tpep_pickup_datetime tpep_dropoff_datetime  passenger_count  \\\n",
       "663   2019-01-01 00:32:56   2019-01-01 00:33:35              2.0   \n",
       "2402  2019-01-01 00:14:18   2019-01-01 00:40:55              1.0   \n",
       "2541  2019-01-01 00:31:27   2019-01-01 00:42:39              1.0   \n",
       "2544  2019-01-01 00:45:57   2019-01-01 00:46:07              1.0   \n",
       "2547  2019-01-01 00:48:35   2019-01-01 00:49:59              1.0   \n",
       "\n",
       "      trip_distance  RatecodeID  PULocationID  DOLocationID  payment_type  \\\n",
       "663            0.10         1.0           148           148             3   \n",
       "2402           4.13         1.0           170           238             4   \n",
       "2541           1.35         1.0           162           234             4   \n",
       "2544           0.00         1.0           234           234             4   \n",
       "2547           0.16         1.0           234           234             4   \n",
       "\n",
       "      total_amount  \n",
       "663           -3.8  \n",
       "2402         -20.3  \n",
       "2541          -9.8  \n",
       "2544          -3.8  \n",
       "2547          -4.3  "
      ]
     },
     "execution_count": 13,
     "metadata": {},
     "output_type": "execute_result"
    }
   ],
   "source": [
    "(taxi_data[taxi_data['total_amount']<0].head())"
   ]
  },
  {
   "cell_type": "code",
   "execution_count": 14,
   "id": "08efa0de",
   "metadata": {},
   "outputs": [
    {
     "data": {
      "text/plain": [
       "payment_type\n",
       "3    4083\n",
       "4    2667\n",
       "2     376\n",
       "1       1\n",
       "Name: count, dtype: int64"
      ]
     },
     "execution_count": 14,
     "metadata": {},
     "output_type": "execute_result"
    }
   ],
   "source": [
    "(taxi_data[taxi_data['total_amount']<0]['payment_type'].value_counts())"
   ]
  },
  {
   "cell_type": "code",
   "execution_count": 15,
   "id": "91390377",
   "metadata": {},
   "outputs": [
    {
     "data": {
      "text/plain": [
       "<Axes: >"
      ]
     },
     "execution_count": 15,
     "metadata": {},
     "output_type": "execute_result"
    },
    {
     "data": {
      "image/png": "[encoded data removed]",
      "text/plain": [
       "<Figure size 1000x500 with 1 Axes>"
      ]
     },
     "metadata": {},
     "output_type": "display_data"
    }
   ],
   "source": [
    "(taxi_data[taxi_data['total_amount']<0]['trip_distance'].hist(figsize=(10,5),bins=60))"
   ]
  },
  {
   "cell_type": "code",
   "execution_count": 16,
   "id": "fc9f91e9",
   "metadata": {},
   "outputs": [
    {
     "name": "stdout",
     "output_type": "stream",
     "text": [
      "(1643, 9)\n"
     ]
    }
   ],
   "source": [
    "print(taxi_data[taxi_data['total_amount']==0].shape)"
   ]
  },
  {
   "cell_type": "code",
   "execution_count": 17,
   "id": "b3dfcbf0",
   "metadata": {},
   "outputs": [
    {
     "data": {
      "text/html": [
       "<div>\n",
       "<style scoped>\n",
       "    .dataframe tbody tr th:only-of-type {\n",
       "        vertical-align: middle;\n",
       "    }\n",
       "\n",
       "    .dataframe tbody tr th {\n",
       "        vertical-align: top;\n",
       "    }\n",
       "\n",
       "    .dataframe thead th {\n",
       "        text-align: right;\n",
       "    }\n",
       "</style>\n",
       "<table border=\"1\" class=\"dataframe\">\n",
       "  <thead>\n",
       "    <tr style=\"text-align: right;\">\n",
       "      <th></th>\n",
       "      <th>tpep_pickup_datetime</th>\n",
       "      <th>tpep_dropoff_datetime</th>\n",
       "      <th>passenger_count</th>\n",
       "      <th>trip_distance</th>\n",
       "      <th>RatecodeID</th>\n",
       "      <th>PULocationID</th>\n",
       "      <th>DOLocationID</th>\n",
       "      <th>payment_type</th>\n",
       "      <th>total_amount</th>\n",
       "    </tr>\n",
       "  </thead>\n",
       "  <tbody>\n",
       "    <tr>\n",
       "      <th>3552</th>\n",
       "      <td>2019-01-01 00:18:46</td>\n",
       "      <td>2019-01-01 00:18:46</td>\n",
       "      <td>1.0</td>\n",
       "      <td>0.0</td>\n",
       "      <td>5.0</td>\n",
       "      <td>186</td>\n",
       "      <td>264</td>\n",
       "      <td>2</td>\n",
       "      <td>0.0</td>\n",
       "    </tr>\n",
       "    <tr>\n",
       "      <th>9138</th>\n",
       "      <td>2019-01-01 00:41:47</td>\n",
       "      <td>2019-01-01 00:41:47</td>\n",
       "      <td>1.0</td>\n",
       "      <td>0.0</td>\n",
       "      <td>5.0</td>\n",
       "      <td>246</td>\n",
       "      <td>264</td>\n",
       "      <td>2</td>\n",
       "      <td>0.0</td>\n",
       "    </tr>\n",
       "    <tr>\n",
       "      <th>13256</th>\n",
       "      <td>2019-01-01 00:19:38</td>\n",
       "      <td>2019-01-01 00:20:35</td>\n",
       "      <td>1.0</td>\n",
       "      <td>0.0</td>\n",
       "      <td>1.0</td>\n",
       "      <td>193</td>\n",
       "      <td>193</td>\n",
       "      <td>1</td>\n",
       "      <td>0.0</td>\n",
       "    </tr>\n",
       "    <tr>\n",
       "      <th>13257</th>\n",
       "      <td>2019-01-01 00:43:34</td>\n",
       "      <td>2019-01-01 00:43:34</td>\n",
       "      <td>1.0</td>\n",
       "      <td>0.0</td>\n",
       "      <td>1.0</td>\n",
       "      <td>7</td>\n",
       "      <td>7</td>\n",
       "      <td>2</td>\n",
       "      <td>0.0</td>\n",
       "    </tr>\n",
       "    <tr>\n",
       "      <th>13258</th>\n",
       "      <td>2019-01-01 00:02:52</td>\n",
       "      <td>2019-01-01 00:02:52</td>\n",
       "      <td>1.0</td>\n",
       "      <td>0.0</td>\n",
       "      <td>1.0</td>\n",
       "      <td>264</td>\n",
       "      <td>7</td>\n",
       "      <td>2</td>\n",
       "      <td>0.0</td>\n",
       "    </tr>\n",
       "  </tbody>\n",
       "</table>\n",
       "</div>"
      ],
      "text/plain": [
       "      tpep_pickup_datetime tpep_dropoff_datetime  passenger_count  \\\n",
       "3552   2019-01-01 00:18:46   2019-01-01 00:18:46              1.0   \n",
       "9138   2019-01-01 00:41:47   2019-01-01 00:41:47              1.0   \n",
       "13256  2019-01-01 00:19:38   2019-01-01 00:20:35              1.0   \n",
       "13257  2019-01-01 00:43:34   2019-01-01 00:43:34              1.0   \n",
       "13258  2019-01-01 00:02:52   2019-01-01 00:02:52              1.0   \n",
       "\n",
       "       trip_distance  RatecodeID  PULocationID  DOLocationID  payment_type  \\\n",
       "3552             0.0         5.0           186           264             2   \n",
       "9138             0.0         5.0           246           264             2   \n",
       "13256            0.0         1.0           193           193             1   \n",
       "13257            0.0         1.0             7             7             2   \n",
       "13258            0.0         1.0           264             7             2   \n",
       "\n",
       "       total_amount  \n",
       "3552            0.0  \n",
       "9138            0.0  \n",
       "13256           0.0  \n",
       "13257           0.0  \n",
       "13258           0.0  "
      ]
     },
     "execution_count": 17,
     "metadata": {},
     "output_type": "execute_result"
    }
   ],
   "source": [
    "(taxi_data[taxi_data['total_amount']==0].head())"
   ]
  },
  {
   "cell_type": "code",
   "execution_count": 18,
   "id": "eda02cfd",
   "metadata": {},
   "outputs": [
    {
     "data": {
      "text/plain": [
       "payment_type\n",
       "1    813\n",
       "2    569\n",
       "0    231\n",
       "3     29\n",
       "4      1\n",
       "Name: count, dtype: int64"
      ]
     },
     "execution_count": 18,
     "metadata": {},
     "output_type": "execute_result"
    }
   ],
   "source": [
    "(taxi_data[taxi_data['total_amount']==0]['payment_type'].value_counts())"
   ]
  },
  {
   "cell_type": "code",
   "execution_count": 19,
   "id": "878f5d9a",
   "metadata": {},
   "outputs": [
    {
     "data": {
      "text/plain": [
       "<Axes: >"
      ]
     },
     "execution_count": 19,
     "metadata": {},
     "output_type": "execute_result"
    },
    {
     "data": {
      "image/png": "[encoded data removed]",
      "text/plain": [
       "<Figure size 1000x500 with 1 Axes>"
      ]
     },
     "metadata": {},
     "output_type": "display_data"
    }
   ],
   "source": [
    "(taxi_data[taxi_data['total_amount']==0]['trip_distance'].hist(figsize=(10,5),bins=60))"
   ]
  },
  {
   "cell_type": "code",
   "execution_count": 20,
   "id": "cd4071c6",
   "metadata": {},
   "outputs": [
    {
     "data": {
      "text/plain": [
       "trip_distance\n",
       "0.00     1323\n",
       "0.03        9\n",
       "0.01        8\n",
       "0.06        6\n",
       "1.00        4\n",
       "         ... \n",
       "11.86       1\n",
       "4.59        1\n",
       "20.92       1\n",
       "18.37       1\n",
       "12.30       1\n",
       "Name: count, Length: 256, dtype: int64"
      ]
     },
     "execution_count": 20,
     "metadata": {},
     "output_type": "execute_result"
    }
   ],
   "source": [
    "(taxi_data[taxi_data['total_amount']==0]['trip_distance'].value_counts())"
   ]
  },
  {
   "cell_type": "code",
   "execution_count": 21,
   "id": "0afc418b",
   "metadata": {},
   "outputs": [
    {
     "data": {
      "text/plain": [
       "<Axes: xlabel='index', ylabel='total_amount'>"
      ]
     },
     "execution_count": 21,
     "metadata": {},
     "output_type": "execute_result"
    },
    {
     "data": {
      "image/png": "[encoded data removed]",
      "text/plain": [
       "<Figure size 1000x500 with 1 Axes>"
      ]
     },
     "metadata": {},
     "output_type": "display_data"
    }
   ],
   "source": [
    "taxi_data.reset_index().plot(kind='scatter' ,x='index',y='total_amount' ,figsize=(10,5))"
   ]
  },
  {
   "cell_type": "code",
   "execution_count": 22,
   "id": "ab693d29",
   "metadata": {},
   "outputs": [
    {
     "data": {
      "text/plain": [
       "(1166, 9)"
      ]
     },
     "execution_count": 22,
     "metadata": {},
     "output_type": "execute_result"
    }
   ],
   "source": [
    "taxi_data[taxi_data['total_amount']>200].shape"
   ]
  },
  {
   "cell_type": "code",
   "execution_count": 23,
   "id": "b2d58c51",
   "metadata": {},
   "outputs": [
    {
     "data": {
      "text/plain": [
       "15.810651344610214"
      ]
     },
     "execution_count": 23,
     "metadata": {},
     "output_type": "execute_result"
    }
   ],
   "source": [
    "taxi_data['total_amount'].mean()"
   ]
  },
  {
   "cell_type": "code",
   "execution_count": 24,
   "id": "963a5e23",
   "metadata": {},
   "outputs": [],
   "source": [
    "taxi_data_filtered=taxi_data[(taxi_data['total_amount']>0) & (taxi_data['total_amount']<200)]"
   ]
  },
  {
   "cell_type": "code",
   "execution_count": 25,
   "id": "30a52c3b",
   "metadata": {},
   "outputs": [
    {
     "name": "stdout",
     "output_type": "stream",
     "text": [
      "(7696617, 9)\n"
     ]
    },
    {
     "data": {
      "text/plain": [
       "(7686676, 9)"
      ]
     },
     "execution_count": 25,
     "metadata": {},
     "output_type": "execute_result"
    }
   ],
   "source": [
    "print(taxi_data.shape)\n",
    "taxi_data_filtered.shape"
   ]
  },
  {
   "cell_type": "code",
   "execution_count": 26,
   "id": "7195202b",
   "metadata": {},
   "outputs": [
    {
     "data": {
      "text/plain": [
       "tpep_pickup_datetime         0\n",
       "tpep_dropoff_datetime        0\n",
       "passenger_count          28441\n",
       "trip_distance                0\n",
       "RatecodeID               28441\n",
       "PULocationID                 0\n",
       "DOLocationID                 0\n",
       "payment_type                 0\n",
       "total_amount                 0\n",
       "dtype: int64"
      ]
     },
     "execution_count": 26,
     "metadata": {},
     "output_type": "execute_result"
    }
   ],
   "source": [
    "taxi_data_filtered.isna().sum()"
   ]
  },
  {
   "cell_type": "code",
   "execution_count": 27,
   "id": "27bc79bf",
   "metadata": {},
   "outputs": [],
   "source": [
    "taxi_data_prepared=taxi_data_filtered.copy()"
   ]
  },
  {
   "cell_type": "code",
   "execution_count": 28,
   "id": "a39798bf",
   "metadata": {},
   "outputs": [
    {
     "data": {
      "text/plain": [
       "tpep_pickup_datetime     datetime64[us]\n",
       "tpep_dropoff_datetime    datetime64[us]\n",
       "passenger_count                 float64\n",
       "trip_distance                   float64\n",
       "RatecodeID                      float64\n",
       "PULocationID                      int64\n",
       "DOLocationID                      int64\n",
       "payment_type                      int64\n",
       "total_amount                    float64\n",
       "dtype: object"
      ]
     },
     "execution_count": 28,
     "metadata": {},
     "output_type": "execute_result"
    }
   ],
   "source": [
    "taxi_data_prepared.dtypes"
   ]
  },
  {
   "cell_type": "code",
   "execution_count": 29,
   "id": "93251213",
   "metadata": {},
   "outputs": [],
   "source": [
    "taxi_data_prepared.loc[:,'RatecodeID']=taxi_data_prepared['RatecodeID'].astype(str)\n",
    "taxi_data_prepared.loc[:,'PULocationID']=taxi_data_prepared['RatecodeID'].astype(str)\n",
    "taxi_data_prepared.loc[:,'DOLocationID']=taxi_data_prepared['RatecodeID'].astype(str)\n",
    "taxi_data_prepared.loc[:,'payment_type']=taxi_data_prepared['RatecodeID'].astype(str)"
   ]
  },
  {
   "cell_type": "code",
   "execution_count": 30,
   "id": "58c1ccea",
   "metadata": {},
   "outputs": [
    {
     "data": {
      "text/plain": [
       "tpep_pickup_datetime     datetime64[us]\n",
       "tpep_dropoff_datetime    datetime64[us]\n",
       "passenger_count                 float64\n",
       "trip_distance                   float64\n",
       "RatecodeID                       object\n",
       "PULocationID                     object\n",
       "DOLocationID                     object\n",
       "payment_type                     object\n",
       "total_amount                    float64\n",
       "dtype: object"
      ]
     },
     "execution_count": 30,
     "metadata": {},
     "output_type": "execute_result"
    }
   ],
   "source": [
    "taxi_data_prepared.dtypes"
   ]
  },
  {
   "cell_type": "code",
   "execution_count": 31,
   "id": "167e2ee5",
   "metadata": {},
   "outputs": [],
   "source": [
    "taxi_data_prepared['transaction_date']=pd.to_datetime(taxi_data_prepared['tpep_pickup_datetime'].dt.date)\n",
    "taxi_data_prepared['transaction_year']=taxi_data_prepared['tpep_pickup_datetime'].dt.year\n",
    "taxi_data_prepared['transaction_month']=taxi_data_prepared['tpep_pickup_datetime'].dt.month\n",
    "taxi_data_prepared['transaction_day']=taxi_data_prepared['tpep_pickup_datetime'].dt.day\n",
    "taxi_data_prepared['transaction_hour']=taxi_data_prepared['tpep_pickup_datetime'].dt.hour"
   ]
  },
  {
   "cell_type": "code",
   "execution_count": 32,
   "id": "814b0a10",
   "metadata": {},
   "outputs": [
    {
     "data": {
      "text/html": [
       "<div>\n",
       "<style scoped>\n",
       "    .dataframe tbody tr th:only-of-type {\n",
       "        vertical-align: middle;\n",
       "    }\n",
       "\n",
       "    .dataframe tbody tr th {\n",
       "        vertical-align: top;\n",
       "    }\n",
       "\n",
       "    .dataframe thead th {\n",
       "        text-align: right;\n",
       "    }\n",
       "</style>\n",
       "<table border=\"1\" class=\"dataframe\">\n",
       "  <thead>\n",
       "    <tr style=\"text-align: right;\">\n",
       "      <th></th>\n",
       "      <th>tpep_pickup_datetime</th>\n",
       "      <th>tpep_dropoff_datetime</th>\n",
       "      <th>passenger_count</th>\n",
       "      <th>trip_distance</th>\n",
       "      <th>RatecodeID</th>\n",
       "      <th>PULocationID</th>\n",
       "      <th>DOLocationID</th>\n",
       "      <th>payment_type</th>\n",
       "      <th>total_amount</th>\n",
       "      <th>transaction_date</th>\n",
       "      <th>transaction_year</th>\n",
       "      <th>transaction_month</th>\n",
       "      <th>transaction_day</th>\n",
       "      <th>transaction_hour</th>\n",
       "    </tr>\n",
       "  </thead>\n",
       "  <tbody>\n",
       "    <tr>\n",
       "      <th>0</th>\n",
       "      <td>2019-01-01 00:46:40</td>\n",
       "      <td>2019-01-01 00:53:20</td>\n",
       "      <td>1.0</td>\n",
       "      <td>1.5</td>\n",
       "      <td>1.0</td>\n",
       "      <td>1.0</td>\n",
       "      <td>1.0</td>\n",
       "      <td>1.0</td>\n",
       "      <td>9.95</td>\n",
       "      <td>2019-01-01</td>\n",
       "      <td>2019</td>\n",
       "      <td>1</td>\n",
       "      <td>1</td>\n",
       "      <td>0</td>\n",
       "    </tr>\n",
       "    <tr>\n",
       "      <th>1</th>\n",
       "      <td>2019-01-01 00:59:47</td>\n",
       "      <td>2019-01-01 01:18:59</td>\n",
       "      <td>1.0</td>\n",
       "      <td>2.6</td>\n",
       "      <td>1.0</td>\n",
       "      <td>1.0</td>\n",
       "      <td>1.0</td>\n",
       "      <td>1.0</td>\n",
       "      <td>16.30</td>\n",
       "      <td>2019-01-01</td>\n",
       "      <td>2019</td>\n",
       "      <td>1</td>\n",
       "      <td>1</td>\n",
       "      <td>0</td>\n",
       "    </tr>\n",
       "    <tr>\n",
       "      <th>2</th>\n",
       "      <td>2018-12-21 13:48:30</td>\n",
       "      <td>2018-12-21 13:52:40</td>\n",
       "      <td>3.0</td>\n",
       "      <td>0.0</td>\n",
       "      <td>1.0</td>\n",
       "      <td>1.0</td>\n",
       "      <td>1.0</td>\n",
       "      <td>1.0</td>\n",
       "      <td>5.80</td>\n",
       "      <td>2018-12-21</td>\n",
       "      <td>2018</td>\n",
       "      <td>12</td>\n",
       "      <td>21</td>\n",
       "      <td>13</td>\n",
       "    </tr>\n",
       "    <tr>\n",
       "      <th>3</th>\n",
       "      <td>2018-11-28 15:52:25</td>\n",
       "      <td>2018-11-28 15:55:45</td>\n",
       "      <td>5.0</td>\n",
       "      <td>0.0</td>\n",
       "      <td>1.0</td>\n",
       "      <td>1.0</td>\n",
       "      <td>1.0</td>\n",
       "      <td>1.0</td>\n",
       "      <td>7.55</td>\n",
       "      <td>2018-11-28</td>\n",
       "      <td>2018</td>\n",
       "      <td>11</td>\n",
       "      <td>28</td>\n",
       "      <td>15</td>\n",
       "    </tr>\n",
       "    <tr>\n",
       "      <th>4</th>\n",
       "      <td>2018-11-28 15:56:57</td>\n",
       "      <td>2018-11-28 15:58:33</td>\n",
       "      <td>5.0</td>\n",
       "      <td>0.0</td>\n",
       "      <td>2.0</td>\n",
       "      <td>2.0</td>\n",
       "      <td>2.0</td>\n",
       "      <td>2.0</td>\n",
       "      <td>55.55</td>\n",
       "      <td>2018-11-28</td>\n",
       "      <td>2018</td>\n",
       "      <td>11</td>\n",
       "      <td>28</td>\n",
       "      <td>15</td>\n",
       "    </tr>\n",
       "  </tbody>\n",
       "</table>\n",
       "</div>"
      ],
      "text/plain": [
       "  tpep_pickup_datetime tpep_dropoff_datetime  passenger_count  trip_distance  \\\n",
       "0  2019-01-01 00:46:40   2019-01-01 00:53:20              1.0            1.5   \n",
       "1  2019-01-01 00:59:47   2019-01-01 01:18:59              1.0            2.6   \n",
       "2  2018-12-21 13:48:30   2018-12-21 13:52:40              3.0            0.0   \n",
       "3  2018-11-28 15:52:25   2018-11-28 15:55:45              5.0            0.0   \n",
       "4  2018-11-28 15:56:57   2018-11-28 15:58:33              5.0            0.0   \n",
       "\n",
       "  RatecodeID PULocationID DOLocationID payment_type  total_amount  \\\n",
       "0        1.0          1.0          1.0          1.0          9.95   \n",
       "1        1.0          1.0          1.0          1.0         16.30   \n",
       "2        1.0          1.0          1.0          1.0          5.80   \n",
       "3        1.0          1.0          1.0          1.0          7.55   \n",
       "4        2.0          2.0          2.0          2.0         55.55   \n",
       "\n",
       "  transaction_date  transaction_year  transaction_month  transaction_day  \\\n",
       "0       2019-01-01              2019                  1                1   \n",
       "1       2019-01-01              2019                  1                1   \n",
       "2       2018-12-21              2018                 12               21   \n",
       "3       2018-11-28              2018                 11               28   \n",
       "4       2018-11-28              2018                 11               28   \n",
       "\n",
       "   transaction_hour  \n",
       "0                 0  \n",
       "1                 0  \n",
       "2                13  \n",
       "3                15  \n",
       "4                15  "
      ]
     },
     "execution_count": 32,
     "metadata": {},
     "output_type": "execute_result"
    }
   ],
   "source": [
    "taxi_data_prepared.head()"
   ]
  },
  {
   "cell_type": "code",
   "execution_count": 33,
   "id": "1ac8a0d1",
   "metadata": {},
   "outputs": [
    {
     "data": {
      "text/plain": [
       "array([[<Axes: title={'center': 'tpep_pickup_datetime'}>,\n",
       "        <Axes: title={'center': 'tpep_dropoff_datetime'}>,\n",
       "        <Axes: title={'center': 'passenger_count'}>],\n",
       "       [<Axes: title={'center': 'trip_distance'}>,\n",
       "        <Axes: title={'center': 'total_amount'}>,\n",
       "        <Axes: title={'center': 'transaction_date'}>],\n",
       "       [<Axes: title={'center': 'transaction_year'}>,\n",
       "        <Axes: title={'center': 'transaction_month'}>,\n",
       "        <Axes: title={'center': 'transaction_day'}>],\n",
       "       [<Axes: title={'center': 'transaction_hour'}>, <Axes: >, <Axes: >]],\n",
       "      dtype=object)"
      ]
     },
     "execution_count": 33,
     "metadata": {},
     "output_type": "execute_result"
    },
    {
     "data": {
      "image/png": "[encoded data removed]",
      "text/plain": [
       "<Figure size 2000x1000 with 12 Axes>"
      ]
     },
     "metadata": {},
     "output_type": "display_data"
    }
   ],
   "source": [
    "taxi_data_prepared.hist(figsize=(20,10),bins=60)"
   ]
  },
  {
   "cell_type": "code",
   "execution_count": 34,
   "id": "7b91c022",
   "metadata": {},
   "outputs": [],
   "source": [
    "taxi_data_prepared=taxi_data_prepared[taxi_data_prepared['transaction_year']==2019]\n",
    "taxi_data_prepared=taxi_data_prepared[taxi_data_prepared['transaction_month']==1]"
   ]
  },
  {
   "cell_type": "code",
   "execution_count": 35,
   "id": "83a09f37",
   "metadata": {},
   "outputs": [],
   "source": [
    "categorical_columns=['PULocationID','transaction_date','transaction_month','transaction_day','transaction_hour']\n",
    "numerical_columns=['trip_distance','total_amount']\n",
    "needed_columns= categorical_columns+numerical_columns"
   ]
  },
  {
   "cell_type": "code",
   "execution_count": 36,
   "id": "397585ef",
   "metadata": {},
   "outputs": [
    {
     "name": "stdout",
     "output_type": "stream",
     "text": [
      "(7686144, 7)\n"
     ]
    },
    {
     "data": {
      "text/html": [
       "<div>\n",
       "<style scoped>\n",
       "    .dataframe tbody tr th:only-of-type {\n",
       "        vertical-align: middle;\n",
       "    }\n",
       "\n",
       "    .dataframe tbody tr th {\n",
       "        vertical-align: top;\n",
       "    }\n",
       "\n",
       "    .dataframe thead th {\n",
       "        text-align: right;\n",
       "    }\n",
       "</style>\n",
       "<table border=\"1\" class=\"dataframe\">\n",
       "  <thead>\n",
       "    <tr style=\"text-align: right;\">\n",
       "      <th></th>\n",
       "      <th>PULocationID</th>\n",
       "      <th>transaction_date</th>\n",
       "      <th>transaction_month</th>\n",
       "      <th>transaction_day</th>\n",
       "      <th>transaction_hour</th>\n",
       "      <th>trip_distance</th>\n",
       "      <th>total_amount</th>\n",
       "    </tr>\n",
       "  </thead>\n",
       "  <tbody>\n",
       "    <tr>\n",
       "      <th>0</th>\n",
       "      <td>1.0</td>\n",
       "      <td>2019-01-01</td>\n",
       "      <td>1</td>\n",
       "      <td>1</td>\n",
       "      <td>0</td>\n",
       "      <td>1.5</td>\n",
       "      <td>9.95</td>\n",
       "    </tr>\n",
       "    <tr>\n",
       "      <th>1</th>\n",
       "      <td>1.0</td>\n",
       "      <td>2019-01-01</td>\n",
       "      <td>1</td>\n",
       "      <td>1</td>\n",
       "      <td>0</td>\n",
       "      <td>2.6</td>\n",
       "      <td>16.30</td>\n",
       "    </tr>\n",
       "    <tr>\n",
       "      <th>7</th>\n",
       "      <td>1.0</td>\n",
       "      <td>2019-01-01</td>\n",
       "      <td>1</td>\n",
       "      <td>1</td>\n",
       "      <td>0</td>\n",
       "      <td>1.3</td>\n",
       "      <td>9.05</td>\n",
       "    </tr>\n",
       "    <tr>\n",
       "      <th>8</th>\n",
       "      <td>1.0</td>\n",
       "      <td>2019-01-01</td>\n",
       "      <td>1</td>\n",
       "      <td>1</td>\n",
       "      <td>0</td>\n",
       "      <td>3.7</td>\n",
       "      <td>18.50</td>\n",
       "    </tr>\n",
       "    <tr>\n",
       "      <th>9</th>\n",
       "      <td>1.0</td>\n",
       "      <td>2019-01-01</td>\n",
       "      <td>1</td>\n",
       "      <td>1</td>\n",
       "      <td>0</td>\n",
       "      <td>2.1</td>\n",
       "      <td>13.00</td>\n",
       "    </tr>\n",
       "  </tbody>\n",
       "</table>\n",
       "</div>"
      ],
      "text/plain": [
       "  PULocationID transaction_date  transaction_month  transaction_day  \\\n",
       "0          1.0       2019-01-01                  1                1   \n",
       "1          1.0       2019-01-01                  1                1   \n",
       "7          1.0       2019-01-01                  1                1   \n",
       "8          1.0       2019-01-01                  1                1   \n",
       "9          1.0       2019-01-01                  1                1   \n",
       "\n",
       "   transaction_hour  trip_distance  total_amount  \n",
       "0                 0            1.5          9.95  \n",
       "1                 0            2.6         16.30  \n",
       "7                 0            1.3          9.05  \n",
       "8                 0            3.7         18.50  \n",
       "9                 0            2.1         13.00  "
      ]
     },
     "execution_count": 36,
     "metadata": {},
     "output_type": "execute_result"
    }
   ],
   "source": [
    "main_taxi_df=taxi_data_prepared[needed_columns]\n",
    "print(main_taxi_df.shape)\n",
    "main_taxi_df.head()"
   ]
  },
  {
   "cell_type": "code",
   "execution_count": 37,
   "id": "fd633294",
   "metadata": {},
   "outputs": [
    {
     "name": "stdout",
     "output_type": "stream",
     "text": [
      "(4552, 8)\n"
     ]
    },
    {
     "data": {
      "text/html": [
       "<div>\n",
       "<style scoped>\n",
       "    .dataframe tbody tr th:only-of-type {\n",
       "        vertical-align: middle;\n",
       "    }\n",
       "\n",
       "    .dataframe tbody tr th {\n",
       "        vertical-align: top;\n",
       "    }\n",
       "\n",
       "    .dataframe thead th {\n",
       "        text-align: right;\n",
       "    }\n",
       "</style>\n",
       "<table border=\"1\" class=\"dataframe\">\n",
       "  <thead>\n",
       "    <tr style=\"text-align: right;\">\n",
       "      <th></th>\n",
       "      <th>PULocationID</th>\n",
       "      <th>transaction_date</th>\n",
       "      <th>transaction_month</th>\n",
       "      <th>transaction_day</th>\n",
       "      <th>transaction_hour</th>\n",
       "      <th>trip_distance</th>\n",
       "      <th>total_amount</th>\n",
       "      <th>count_of_transaction</th>\n",
       "    </tr>\n",
       "  </thead>\n",
       "  <tbody>\n",
       "    <tr>\n",
       "      <th>0</th>\n",
       "      <td>1.0</td>\n",
       "      <td>2019-01-01</td>\n",
       "      <td>1</td>\n",
       "      <td>1</td>\n",
       "      <td>0</td>\n",
       "      <td>2.810215</td>\n",
       "      <td>15.501245</td>\n",
       "      <td>13256</td>\n",
       "    </tr>\n",
       "    <tr>\n",
       "      <th>1</th>\n",
       "      <td>1.0</td>\n",
       "      <td>2019-01-01</td>\n",
       "      <td>1</td>\n",
       "      <td>1</td>\n",
       "      <td>1</td>\n",
       "      <td>3.008797</td>\n",
       "      <td>15.880940</td>\n",
       "      <td>15258</td>\n",
       "    </tr>\n",
       "    <tr>\n",
       "      <th>2</th>\n",
       "      <td>1.0</td>\n",
       "      <td>2019-01-01</td>\n",
       "      <td>1</td>\n",
       "      <td>1</td>\n",
       "      <td>2</td>\n",
       "      <td>3.125909</td>\n",
       "      <td>15.789893</td>\n",
       "      <td>13035</td>\n",
       "    </tr>\n",
       "    <tr>\n",
       "      <th>3</th>\n",
       "      <td>1.0</td>\n",
       "      <td>2019-01-01</td>\n",
       "      <td>1</td>\n",
       "      <td>1</td>\n",
       "      <td>3</td>\n",
       "      <td>3.203513</td>\n",
       "      <td>15.493270</td>\n",
       "      <td>10292</td>\n",
       "    </tr>\n",
       "    <tr>\n",
       "      <th>4</th>\n",
       "      <td>1.0</td>\n",
       "      <td>2019-01-01</td>\n",
       "      <td>1</td>\n",
       "      <td>1</td>\n",
       "      <td>4</td>\n",
       "      <td>3.535103</td>\n",
       "      <td>16.105968</td>\n",
       "      <td>6686</td>\n",
       "    </tr>\n",
       "  </tbody>\n",
       "</table>\n",
       "</div>"
      ],
      "text/plain": [
       "  PULocationID transaction_date  transaction_month  transaction_day  \\\n",
       "0          1.0       2019-01-01                  1                1   \n",
       "1          1.0       2019-01-01                  1                1   \n",
       "2          1.0       2019-01-01                  1                1   \n",
       "3          1.0       2019-01-01                  1                1   \n",
       "4          1.0       2019-01-01                  1                1   \n",
       "\n",
       "   transaction_hour  trip_distance  total_amount  count_of_transaction  \n",
       "0                 0       2.810215     15.501245                 13256  \n",
       "1                 1       3.008797     15.880940                 15258  \n",
       "2                 2       3.125909     15.789893                 13035  \n",
       "3                 3       3.203513     15.493270                 10292  \n",
       "4                 4       3.535103     16.105968                  6686  "
      ]
     },
     "execution_count": 37,
     "metadata": {},
     "output_type": "execute_result"
    }
   ],
   "source": [
    "taxi_grouped_by_region=main_taxi_df.groupby(categorical_columns).mean().reset_index()\n",
    "taxi_grouped_by_region['count_of_transaction']=main_taxi_df.groupby(categorical_columns).count().reset_index()['total_amount']\n",
    "print(taxi_grouped_by_region.shape)\n",
    "taxi_grouped_by_region.head()"
   ]
  },
  {
   "cell_type": "code",
   "execution_count": 38,
   "id": "ad82aeb6",
   "metadata": {},
   "outputs": [
    {
     "data": {
      "text/plain": [
       "<Axes: >"
      ]
     },
     "execution_count": 38,
     "metadata": {},
     "output_type": "execute_result"
    },
    {
     "data": {
      "image/png": "[encoded data removed]",
      "text/plain": [
       "<Figure size 1000x500 with 1 Axes>"
      ]
     },
     "metadata": {},
     "output_type": "display_data"
    }
   ],
   "source": [
    "taxi_grouped_by_region['trip_distance'].hist(bins=100,figsize=(10,5))"
   ]
  },
  {
   "cell_type": "code",
   "execution_count": 39,
   "id": "38079825",
   "metadata": {},
   "outputs": [
    {
     "data": {
      "text/plain": [
       "<Axes: >"
      ]
     },
     "execution_count": 39,
     "metadata": {},
     "output_type": "execute_result"
    },
    {
     "data": {
      "image/png": "[encoded data removed]",
      "text/plain": [
       "<Figure size 1000x500 with 1 Axes>"
      ]
     },
     "metadata": {},
     "output_type": "display_data"
    }
   ],
   "source": [
    "taxi_grouped_by_region['total_amount'].hist(bins=100,figsize=(10,5))"
   ]
  },
  {
   "cell_type": "code",
   "execution_count": 40,
   "id": "67b505fe",
   "metadata": {},
   "outputs": [],
   "source": [
    "data_for_benchmark_model=taxi_grouped_by_region.copy()"
   ]
  },
  {
   "cell_type": "code",
   "execution_count": 41,
   "id": "0cad6d53",
   "metadata": {},
   "outputs": [],
   "source": [
    "categorical_features=['PULocationID','transaction_month','transaction_day','transaction_hour']\n",
    "input_features=categorical_features+['trip_distance']\n",
    "target_feature=['total_amount']"
   ]
  },
  {
   "cell_type": "code",
   "execution_count": 42,
   "id": "273ffbd2",
   "metadata": {},
   "outputs": [],
   "source": [
    "from sklearn.model_selection import train_test_split\n",
    "x_axis=data_for_benchmark_model[input_features]\n",
    "y_axis=data_for_benchmark_model[target_feature]\n",
    "x_axis=pd.get_dummies(x_axis)\n",
    "x_train_b,x_test_b,y_train_b,y_test_b=train_test_split(x_axis,y_axis,test_size=0.33,random_state=42)"
   ]
  },
  {
   "cell_type": "code",
   "execution_count": 43,
   "id": "d98011d7",
   "metadata": {},
   "outputs": [
    {
     "data": {
      "text/html": [
       "<style>#sk-container-id-1 {color: black;background-color: white;}#sk-container-id-1 pre{padding: 0;}#sk-container-id-1 div.sk-toggleable {background-color: white;}#sk-container-id-1 label.sk-toggleable__label {cursor: pointer;display: block;width: 100%;margin-bottom: 0;padding: 0.3em;box-sizing: border-box;text-align: center;}#sk-container-id-1 label.sk-toggleable__label-arrow:before {content: \"▸\";float: left;margin-right: 0.25em;color: #696969;}#sk-container-id-1 label.sk-toggleable__label-arrow:hover:before {color: black;}#sk-container-id-1 div.sk-estimator:hover label.sk-toggleable__label-arrow:before {color: black;}#sk-container-id-1 div.sk-toggleable__content {max-height: 0;max-width: 0;overflow: hidden;text-align: left;background-color: #f0f8ff;}#sk-container-id-1 div.sk-toggleable__content pre {margin: 0.2em;color: black;border-radius: 0.25em;background-color: #f0f8ff;}#sk-container-id-1 input.sk-toggleable__control:checked~div.sk-toggleable__content {max-height: 200px;max-width: 100%;overflow: auto;}#sk-container-id-1 input.sk-toggleable__control:checked~label.sk-toggleable__label-arrow:before {content: \"▾\";}#sk-container-id-1 div.sk-estimator input.sk-toggleable__control:checked~label.sk-toggleable__label {background-color: #d4ebff;}#sk-container-id-1 div.sk-label input.sk-toggleable__control:checked~label.sk-toggleable__label {background-color: #d4ebff;}#sk-container-id-1 input.sk-hidden--visually {border: 0;clip: rect(1px 1px 1px 1px);clip: rect(1px, 1px, 1px, 1px);height: 1px;margin: -1px;overflow: hidden;padding: 0;position: absolute;width: 1px;}#sk-container-id-1 div.sk-estimator {font-family: monospace;background-color: #f0f8ff;border: 1px dotted black;border-radius: 0.25em;box-sizing: border-box;margin-bottom: 0.5em;}#sk-container-id-1 div.sk-estimator:hover {background-color: #d4ebff;}#sk-container-id-1 div.sk-parallel-item::after {content: \"\";width: 100%;border-bottom: 1px solid gray;flex-grow: 1;}#sk-container-id-1 div.sk-label:hover label.sk-toggleable__label {background-color: #d4ebff;}#sk-container-id-1 div.sk-serial::before {content: \"\";position: absolute;border-left: 1px solid gray;box-sizing: border-box;top: 0;bottom: 0;left: 50%;z-index: 0;}#sk-container-id-1 div.sk-serial {display: flex;flex-direction: column;align-items: center;background-color: white;padding-right: 0.2em;padding-left: 0.2em;position: relative;}#sk-container-id-1 div.sk-item {position: relative;z-index: 1;}#sk-container-id-1 div.sk-parallel {display: flex;align-items: stretch;justify-content: center;background-color: white;position: relative;}#sk-container-id-1 div.sk-item::before, #sk-container-id-1 div.sk-parallel-item::before {content: \"\";position: absolute;border-left: 1px solid gray;box-sizing: border-box;top: 0;bottom: 0;left: 50%;z-index: -1;}#sk-container-id-1 div.sk-parallel-item {display: flex;flex-direction: column;z-index: 1;position: relative;background-color: white;}#sk-container-id-1 div.sk-parallel-item:first-child::after {align-self: flex-end;width: 50%;}#sk-container-id-1 div.sk-parallel-item:last-child::after {align-self: flex-start;width: 50%;}#sk-container-id-1 div.sk-parallel-item:only-child::after {width: 0;}#sk-container-id-1 div.sk-dashed-wrapped {border: 1px dashed gray;margin: 0 0.4em 0.5em 0.4em;box-sizing: border-box;padding-bottom: 0.4em;background-color: white;}#sk-container-id-1 div.sk-label label {font-family: monospace;font-weight: bold;display: inline-block;line-height: 1.2em;}#sk-container-id-1 div.sk-label-container {text-align: center;}#sk-container-id-1 div.sk-container {/* jupyter's `normalize.less` sets `[hidden] { display: none; }` but bootstrap.min.css set `[hidden] { display: none !important; }` so we also need the `!important` here to be able to override the default hidden behavior on the sphinx rendered scikit-learn.org. See: https://github.com/scikit-learn/scikit-learn/issues/21755 */display: inline-block !important;position: relative;}#sk-container-id-1 div.sk-text-repr-fallback {display: none;}</style><div id=\"sk-container-id-1\" class=\"sk-top-container\"><div class=\"sk-text-repr-fallback\"><pre>DecisionTreeRegressor(max_depth=10)</pre><b>In a Jupyter environment, please rerun this cell to show the HTML representation or trust the notebook. <br />On GitHub, the HTML representation is unable to render, please try loading this page with nbviewer.org.</b></div><div class=\"sk-container\" hidden><div class=\"sk-item\"><div class=\"sk-estimator sk-toggleable\"><input class=\"sk-toggleable__control sk-hidden--visually\" id=\"sk-estimator-id-1\" type=\"checkbox\" checked><label for=\"sk-estimator-id-1\" class=\"sk-toggleable__label sk-toggleable__label-arrow\">DecisionTreeRegressor</label><div class=\"sk-toggleable__content\"><pre>DecisionTreeRegressor(max_depth=10)</pre></div></div></div></div></div>"
      ],
      "text/plain": [
       "DecisionTreeRegressor(max_depth=10)"
      ]
     },
     "execution_count": 43,
     "metadata": {},
     "output_type": "execute_result"
    }
   ],
   "source": [
    "from sklearn.tree import DecisionTreeRegressor\n",
    "tree=DecisionTreeRegressor(max_depth=10)\n",
    "tree.fit(x_train_b,y_train_b)"
   ]
  },
  {
   "cell_type": "code",
   "execution_count": 44,
   "id": "dc53c13c",
   "metadata": {},
   "outputs": [
    {
     "name": "stdout",
     "output_type": "stream",
     "text": [
      "mean absolute error=  3.9643162001653245\n",
      "mean squared error=  69.67406213832312\n",
      "root mean square error=  8.34709902530952\n",
      "r2=  0.9024573386791713\n"
     ]
    }
   ],
   "source": [
    "model_at_hand=tree\n",
    "y_pred=model_at_hand.predict(x_test_b)\n",
    "from sklearn.metrics import mean_absolute_error\n",
    "from sklearn.metrics import mean_squared_error\n",
    "from sklearn.metrics import r2_score\n",
    "from math import sqrt\n",
    "print('mean absolute error= ',mean_absolute_error(y_test_b,y_pred))\n",
    "print('mean squared error= ',mean_squared_error(y_test_b,y_pred))\n",
    "print('root mean square error= ',sqrt(mean_squared_error(y_test_b,y_pred)))\n",
    "print('r2= ',r2_score(y_test_b,y_pred))"
   ]
  },
  {
   "cell_type": "code",
   "execution_count": 45,
   "id": "6358b7d1",
   "metadata": {},
   "outputs": [
    {
     "data": {
      "text/plain": [
       "<Axes: xlabel='true', ylabel='pred'>"
      ]
     },
     "execution_count": 45,
     "metadata": {},
     "output_type": "execute_result"
    },
    {
     "data": {
      "image/png": "[encoded data removed]",
      "text/plain": [
       "<Figure size 1000x500 with 1 Axes>"
      ]
     },
     "metadata": {},
     "output_type": "display_data"
    }
   ],
   "source": [
    "y_test_b = y_test_b.values\n",
    "y_test_b = y_test_b.flatten()\n",
    "data = {'true': y_test_b, 'pred': y_pred}\n",
    "results = pd.DataFrame(data)\n",
    "results.plot(kind='scatter', x='true', y='pred', figsize=(10, 5))"
   ]
  },
  {
   "cell_type": "code",
   "execution_count": 46,
   "id": "9ad30f64",
   "metadata": {},
   "outputs": [
    {
     "name": "stdout",
     "output_type": "stream",
     "text": [
      "mean absolute error=  6.928059902616054\n",
      "mean squared error=  223.2573272127657\n",
      "root mean square error=  14.941797991298293\n",
      "r2=  0.6874430284763018\n"
     ]
    }
   ],
   "source": [
    "categorical_features=['PULocationID','transaction_month','transaction_day','transaction_hour']\n",
    "input_features=categorical_features\n",
    "target_feature=['total_amount']\n",
    "\n",
    "from sklearn.model_selection import train_test_split\n",
    "x_axis=data_for_benchmark_model[input_features]\n",
    "y_axis=data_for_benchmark_model[target_feature]\n",
    "x_axis=pd.get_dummies(x_axis)\n",
    "x_train_b,x_test_b,y_train_b,y_test_b=train_test_split(x_axis,y_axis,test_size=0.33,random_state=42)\n",
    "\n",
    "from sklearn.tree import DecisionTreeRegressor\n",
    "tree=DecisionTreeRegressor(max_depth=10)\n",
    "tree.fit(x_train_b,y_train_b)\n",
    "\n",
    "model_at_hand=tree\n",
    "y_pred=model_at_hand.predict(x_test_b)\n",
    "from sklearn.metrics import mean_absolute_error\n",
    "from sklearn.metrics import mean_squared_error\n",
    "from sklearn.metrics import r2_score\n",
    "from math import sqrt\n",
    "print('mean absolute error= ',mean_absolute_error(y_test_b,y_pred))\n",
    "print('mean squared error= ',mean_squared_error(y_test_b,y_pred))\n",
    "print('root mean square error= ',sqrt(mean_squared_error(y_test_b,y_pred)))\n",
    "print('r2= ',r2_score(y_test_b,y_pred))"
   ]
  },
  {
   "cell_type": "code",
   "execution_count": 47,
   "id": "3d4851b3",
   "metadata": {},
   "outputs": [
    {
     "data": {
      "text/plain": [
       "<Axes: xlabel='true', ylabel='pred'>"
      ]
     },
     "execution_count": 47,
     "metadata": {},
     "output_type": "execute_result"
    },
    {
     "data": {
      "image/png": "[encoded data removed]",
      "text/plain": [
       "<Figure size 1000x500 with 1 Axes>"
      ]
     },
     "metadata": {},
     "output_type": "display_data"
    }
   ],
   "source": [
    "y_test_b=y_test_b.values\n",
    "y_test_b=y_test_b.flatten()\n",
    "data = {'true': y_test_b, 'pred': y_pred}\n",
    "results = pd.DataFrame(data)\n",
    "results.plot(kind='scatter', x='true', y='pred', figsize=(10, 5))"
   ]
  },
  {
   "cell_type": "code",
   "execution_count": 48,
   "id": "1ba8e4dd",
   "metadata": {},
   "outputs": [
    {
     "data": {
      "text/html": [
       "<div>\n",
       "<style scoped>\n",
       "    .dataframe tbody tr th:only-of-type {\n",
       "        vertical-align: middle;\n",
       "    }\n",
       "\n",
       "    .dataframe tbody tr th {\n",
       "        vertical-align: top;\n",
       "    }\n",
       "\n",
       "    .dataframe thead th {\n",
       "        text-align: right;\n",
       "    }\n",
       "</style>\n",
       "<table border=\"1\" class=\"dataframe\">\n",
       "  <thead>\n",
       "    <tr style=\"text-align: right;\">\n",
       "      <th></th>\n",
       "      <th>PULocationID</th>\n",
       "      <th>transaction_date</th>\n",
       "      <th>transaction_month</th>\n",
       "      <th>transaction_day</th>\n",
       "      <th>transaction_hour</th>\n",
       "      <th>trip_distance</th>\n",
       "      <th>total_amount</th>\n",
       "      <th>count_of_transaction</th>\n",
       "    </tr>\n",
       "  </thead>\n",
       "  <tbody>\n",
       "    <tr>\n",
       "      <th>0</th>\n",
       "      <td>1.0</td>\n",
       "      <td>2019-01-01</td>\n",
       "      <td>1</td>\n",
       "      <td>1</td>\n",
       "      <td>0</td>\n",
       "      <td>2.810215</td>\n",
       "      <td>15.501245</td>\n",
       "      <td>13256</td>\n",
       "    </tr>\n",
       "    <tr>\n",
       "      <th>1</th>\n",
       "      <td>1.0</td>\n",
       "      <td>2019-01-01</td>\n",
       "      <td>1</td>\n",
       "      <td>1</td>\n",
       "      <td>1</td>\n",
       "      <td>3.008797</td>\n",
       "      <td>15.880940</td>\n",
       "      <td>15258</td>\n",
       "    </tr>\n",
       "    <tr>\n",
       "      <th>2</th>\n",
       "      <td>1.0</td>\n",
       "      <td>2019-01-01</td>\n",
       "      <td>1</td>\n",
       "      <td>1</td>\n",
       "      <td>2</td>\n",
       "      <td>3.125909</td>\n",
       "      <td>15.789893</td>\n",
       "      <td>13035</td>\n",
       "    </tr>\n",
       "    <tr>\n",
       "      <th>3</th>\n",
       "      <td>1.0</td>\n",
       "      <td>2019-01-01</td>\n",
       "      <td>1</td>\n",
       "      <td>1</td>\n",
       "      <td>3</td>\n",
       "      <td>3.203513</td>\n",
       "      <td>15.493270</td>\n",
       "      <td>10292</td>\n",
       "    </tr>\n",
       "    <tr>\n",
       "      <th>4</th>\n",
       "      <td>1.0</td>\n",
       "      <td>2019-01-01</td>\n",
       "      <td>1</td>\n",
       "      <td>1</td>\n",
       "      <td>4</td>\n",
       "      <td>3.535103</td>\n",
       "      <td>16.105968</td>\n",
       "      <td>6686</td>\n",
       "    </tr>\n",
       "  </tbody>\n",
       "</table>\n",
       "</div>"
      ],
      "text/plain": [
       "  PULocationID transaction_date  transaction_month  transaction_day  \\\n",
       "0          1.0       2019-01-01                  1                1   \n",
       "1          1.0       2019-01-01                  1                1   \n",
       "2          1.0       2019-01-01                  1                1   \n",
       "3          1.0       2019-01-01                  1                1   \n",
       "4          1.0       2019-01-01                  1                1   \n",
       "\n",
       "   transaction_hour  trip_distance  total_amount  count_of_transaction  \n",
       "0                 0       2.810215     15.501245                 13256  \n",
       "1                 1       3.008797     15.880940                 15258  \n",
       "2                 2       3.125909     15.789893                 13035  \n",
       "3                 3       3.203513     15.493270                 10292  \n",
       "4                 4       3.535103     16.105968                  6686  "
      ]
     },
     "execution_count": 48,
     "metadata": {},
     "output_type": "execute_result"
    }
   ],
   "source": [
    "taxi_grouped_by_region.head()"
   ]
  },
  {
   "cell_type": "code",
   "execution_count": 49,
   "id": "325acf63",
   "metadata": {},
   "outputs": [],
   "source": [
    "data_with_new_feature=taxi_grouped_by_region.copy()"
   ]
  },
  {
   "cell_type": "code",
   "execution_count": 50,
   "id": "a9b62d6a",
   "metadata": {},
   "outputs": [],
   "source": [
    "data_with_new_feature['transaction_weekday']=data_with_new_feature['transaction_date'].dt.weekday\n",
    "data_with_new_feature['weekend']=data_with_new_feature['transaction_weekday'].apply (lambda x: True if x==5 or x==6 else False)"
   ]
  },
  {
   "cell_type": "code",
   "execution_count": 51,
   "id": "5fbb50bc",
   "metadata": {},
   "outputs": [
    {
     "data": {
      "text/html": [
       "<div>\n",
       "<style scoped>\n",
       "    .dataframe tbody tr th:only-of-type {\n",
       "        vertical-align: middle;\n",
       "    }\n",
       "\n",
       "    .dataframe tbody tr th {\n",
       "        vertical-align: top;\n",
       "    }\n",
       "\n",
       "    .dataframe thead th {\n",
       "        text-align: right;\n",
       "    }\n",
       "</style>\n",
       "<table border=\"1\" class=\"dataframe\">\n",
       "  <thead>\n",
       "    <tr style=\"text-align: right;\">\n",
       "      <th></th>\n",
       "      <th>PULocationID</th>\n",
       "      <th>transaction_date</th>\n",
       "      <th>transaction_month</th>\n",
       "      <th>transaction_day</th>\n",
       "      <th>transaction_hour</th>\n",
       "      <th>trip_distance</th>\n",
       "      <th>total_amount</th>\n",
       "      <th>count_of_transaction</th>\n",
       "      <th>transaction_weekday</th>\n",
       "      <th>weekend</th>\n",
       "    </tr>\n",
       "  </thead>\n",
       "  <tbody>\n",
       "    <tr>\n",
       "      <th>0</th>\n",
       "      <td>1.0</td>\n",
       "      <td>2019-01-01</td>\n",
       "      <td>1</td>\n",
       "      <td>1</td>\n",
       "      <td>0</td>\n",
       "      <td>2.810215</td>\n",
       "      <td>15.501245</td>\n",
       "      <td>13256</td>\n",
       "      <td>1</td>\n",
       "      <td>False</td>\n",
       "    </tr>\n",
       "    <tr>\n",
       "      <th>1</th>\n",
       "      <td>1.0</td>\n",
       "      <td>2019-01-01</td>\n",
       "      <td>1</td>\n",
       "      <td>1</td>\n",
       "      <td>1</td>\n",
       "      <td>3.008797</td>\n",
       "      <td>15.880940</td>\n",
       "      <td>15258</td>\n",
       "      <td>1</td>\n",
       "      <td>False</td>\n",
       "    </tr>\n",
       "    <tr>\n",
       "      <th>2</th>\n",
       "      <td>1.0</td>\n",
       "      <td>2019-01-01</td>\n",
       "      <td>1</td>\n",
       "      <td>1</td>\n",
       "      <td>2</td>\n",
       "      <td>3.125909</td>\n",
       "      <td>15.789893</td>\n",
       "      <td>13035</td>\n",
       "      <td>1</td>\n",
       "      <td>False</td>\n",
       "    </tr>\n",
       "    <tr>\n",
       "      <th>3</th>\n",
       "      <td>1.0</td>\n",
       "      <td>2019-01-01</td>\n",
       "      <td>1</td>\n",
       "      <td>1</td>\n",
       "      <td>3</td>\n",
       "      <td>3.203513</td>\n",
       "      <td>15.493270</td>\n",
       "      <td>10292</td>\n",
       "      <td>1</td>\n",
       "      <td>False</td>\n",
       "    </tr>\n",
       "    <tr>\n",
       "      <th>4</th>\n",
       "      <td>1.0</td>\n",
       "      <td>2019-01-01</td>\n",
       "      <td>1</td>\n",
       "      <td>1</td>\n",
       "      <td>4</td>\n",
       "      <td>3.535103</td>\n",
       "      <td>16.105968</td>\n",
       "      <td>6686</td>\n",
       "      <td>1</td>\n",
       "      <td>False</td>\n",
       "    </tr>\n",
       "  </tbody>\n",
       "</table>\n",
       "</div>"
      ],
      "text/plain": [
       "  PULocationID transaction_date  transaction_month  transaction_day  \\\n",
       "0          1.0       2019-01-01                  1                1   \n",
       "1          1.0       2019-01-01                  1                1   \n",
       "2          1.0       2019-01-01                  1                1   \n",
       "3          1.0       2019-01-01                  1                1   \n",
       "4          1.0       2019-01-01                  1                1   \n",
       "\n",
       "   transaction_hour  trip_distance  total_amount  count_of_transaction  \\\n",
       "0                 0       2.810215     15.501245                 13256   \n",
       "1                 1       3.008797     15.880940                 15258   \n",
       "2                 2       3.125909     15.789893                 13035   \n",
       "3                 3       3.203513     15.493270                 10292   \n",
       "4                 4       3.535103     16.105968                  6686   \n",
       "\n",
       "   transaction_weekday  weekend  \n",
       "0                    1    False  \n",
       "1                    1    False  \n",
       "2                    1    False  \n",
       "3                    1    False  \n",
       "4                    1    False  "
      ]
     },
     "execution_count": 51,
     "metadata": {},
     "output_type": "execute_result"
    }
   ],
   "source": [
    "data_with_new_feature.head()"
   ]
  },
  {
   "cell_type": "code",
   "execution_count": 52,
   "id": "5f401a55",
   "metadata": {},
   "outputs": [],
   "source": [
    "from pandas.tseries.holiday import USFederalHolidayCalendar\n",
    "cal=USFederalHolidayCalendar() \n",
    "holidays=cal.holidays(start='2018',end='2020').date\n",
    "data_with_new_feature['is_holiday']=data_with_new_feature['transaction_date'].isin(holidays)"
   ]
  },
  {
   "cell_type": "code",
   "execution_count": 53,
   "id": "885abec5",
   "metadata": {},
   "outputs": [
    {
     "data": {
      "text/html": [
       "<div>\n",
       "<style scoped>\n",
       "    .dataframe tbody tr th:only-of-type {\n",
       "        vertical-align: middle;\n",
       "    }\n",
       "\n",
       "    .dataframe tbody tr th {\n",
       "        vertical-align: top;\n",
       "    }\n",
       "\n",
       "    .dataframe thead th {\n",
       "        text-align: right;\n",
       "    }\n",
       "</style>\n",
       "<table border=\"1\" class=\"dataframe\">\n",
       "  <thead>\n",
       "    <tr style=\"text-align: right;\">\n",
       "      <th></th>\n",
       "      <th>PULocationID</th>\n",
       "      <th>transaction_date</th>\n",
       "      <th>transaction_month</th>\n",
       "      <th>transaction_day</th>\n",
       "      <th>transaction_hour</th>\n",
       "      <th>trip_distance</th>\n",
       "      <th>total_amount</th>\n",
       "      <th>count_of_transaction</th>\n",
       "      <th>transaction_weekday</th>\n",
       "      <th>weekend</th>\n",
       "      <th>is_holiday</th>\n",
       "    </tr>\n",
       "  </thead>\n",
       "  <tbody>\n",
       "    <tr>\n",
       "      <th>0</th>\n",
       "      <td>1.0</td>\n",
       "      <td>2019-01-01</td>\n",
       "      <td>1</td>\n",
       "      <td>1</td>\n",
       "      <td>0</td>\n",
       "      <td>2.810215</td>\n",
       "      <td>15.501245</td>\n",
       "      <td>13256</td>\n",
       "      <td>1</td>\n",
       "      <td>False</td>\n",
       "      <td>True</td>\n",
       "    </tr>\n",
       "    <tr>\n",
       "      <th>1</th>\n",
       "      <td>1.0</td>\n",
       "      <td>2019-01-01</td>\n",
       "      <td>1</td>\n",
       "      <td>1</td>\n",
       "      <td>1</td>\n",
       "      <td>3.008797</td>\n",
       "      <td>15.880940</td>\n",
       "      <td>15258</td>\n",
       "      <td>1</td>\n",
       "      <td>False</td>\n",
       "      <td>True</td>\n",
       "    </tr>\n",
       "    <tr>\n",
       "      <th>2</th>\n",
       "      <td>1.0</td>\n",
       "      <td>2019-01-01</td>\n",
       "      <td>1</td>\n",
       "      <td>1</td>\n",
       "      <td>2</td>\n",
       "      <td>3.125909</td>\n",
       "      <td>15.789893</td>\n",
       "      <td>13035</td>\n",
       "      <td>1</td>\n",
       "      <td>False</td>\n",
       "      <td>True</td>\n",
       "    </tr>\n",
       "    <tr>\n",
       "      <th>3</th>\n",
       "      <td>1.0</td>\n",
       "      <td>2019-01-01</td>\n",
       "      <td>1</td>\n",
       "      <td>1</td>\n",
       "      <td>3</td>\n",
       "      <td>3.203513</td>\n",
       "      <td>15.493270</td>\n",
       "      <td>10292</td>\n",
       "      <td>1</td>\n",
       "      <td>False</td>\n",
       "      <td>True</td>\n",
       "    </tr>\n",
       "    <tr>\n",
       "      <th>4</th>\n",
       "      <td>1.0</td>\n",
       "      <td>2019-01-01</td>\n",
       "      <td>1</td>\n",
       "      <td>1</td>\n",
       "      <td>4</td>\n",
       "      <td>3.535103</td>\n",
       "      <td>16.105968</td>\n",
       "      <td>6686</td>\n",
       "      <td>1</td>\n",
       "      <td>False</td>\n",
       "      <td>True</td>\n",
       "    </tr>\n",
       "  </tbody>\n",
       "</table>\n",
       "</div>"
      ],
      "text/plain": [
       "  PULocationID transaction_date  transaction_month  transaction_day  \\\n",
       "0          1.0       2019-01-01                  1                1   \n",
       "1          1.0       2019-01-01                  1                1   \n",
       "2          1.0       2019-01-01                  1                1   \n",
       "3          1.0       2019-01-01                  1                1   \n",
       "4          1.0       2019-01-01                  1                1   \n",
       "\n",
       "   transaction_hour  trip_distance  total_amount  count_of_transaction  \\\n",
       "0                 0       2.810215     15.501245                 13256   \n",
       "1                 1       3.008797     15.880940                 15258   \n",
       "2                 2       3.125909     15.789893                 13035   \n",
       "3                 3       3.203513     15.493270                 10292   \n",
       "4                 4       3.535103     16.105968                  6686   \n",
       "\n",
       "   transaction_weekday  weekend  is_holiday  \n",
       "0                    1    False        True  \n",
       "1                    1    False        True  \n",
       "2                    1    False        True  \n",
       "3                    1    False        True  \n",
       "4                    1    False        True  "
      ]
     },
     "execution_count": 53,
     "metadata": {},
     "output_type": "execute_result"
    }
   ],
   "source": [
    "data_with_new_feature.head()"
   ]
  },
  {
   "cell_type": "code",
   "execution_count": 54,
   "id": "2f47812c",
   "metadata": {},
   "outputs": [
    {
     "data": {
      "text/html": [
       "<div>\n",
       "<style scoped>\n",
       "    .dataframe tbody tr th:only-of-type {\n",
       "        vertical-align: middle;\n",
       "    }\n",
       "\n",
       "    .dataframe tbody tr th {\n",
       "        vertical-align: top;\n",
       "    }\n",
       "\n",
       "    .dataframe thead th {\n",
       "        text-align: right;\n",
       "    }\n",
       "</style>\n",
       "<table border=\"1\" class=\"dataframe\">\n",
       "  <thead>\n",
       "    <tr style=\"text-align: right;\">\n",
       "      <th></th>\n",
       "      <th>LocationID</th>\n",
       "      <th>Borough</th>\n",
       "      <th>Zone</th>\n",
       "      <th>service_zone</th>\n",
       "    </tr>\n",
       "  </thead>\n",
       "  <tbody>\n",
       "    <tr>\n",
       "      <th>0</th>\n",
       "      <td>1</td>\n",
       "      <td>EWR</td>\n",
       "      <td>Newark Airport</td>\n",
       "      <td>EWR</td>\n",
       "    </tr>\n",
       "    <tr>\n",
       "      <th>1</th>\n",
       "      <td>2</td>\n",
       "      <td>Queens</td>\n",
       "      <td>Jamaica Bay</td>\n",
       "      <td>Boro Zone</td>\n",
       "    </tr>\n",
       "    <tr>\n",
       "      <th>2</th>\n",
       "      <td>3</td>\n",
       "      <td>Bronx</td>\n",
       "      <td>Allerton/Pelham Gardens</td>\n",
       "      <td>Boro Zone</td>\n",
       "    </tr>\n",
       "    <tr>\n",
       "      <th>3</th>\n",
       "      <td>4</td>\n",
       "      <td>Manhattan</td>\n",
       "      <td>Alphabet City</td>\n",
       "      <td>Yellow Zone</td>\n",
       "    </tr>\n",
       "    <tr>\n",
       "      <th>4</th>\n",
       "      <td>5</td>\n",
       "      <td>Staten Island</td>\n",
       "      <td>Arden Heights</td>\n",
       "      <td>Boro Zone</td>\n",
       "    </tr>\n",
       "  </tbody>\n",
       "</table>\n",
       "</div>"
      ],
      "text/plain": [
       "   LocationID        Borough                     Zone service_zone\n",
       "0           1            EWR           Newark Airport          EWR\n",
       "1           2         Queens              Jamaica Bay    Boro Zone\n",
       "2           3          Bronx  Allerton/Pelham Gardens    Boro Zone\n",
       "3           4      Manhattan            Alphabet City  Yellow Zone\n",
       "4           5  Staten Island            Arden Heights    Boro Zone"
      ]
     },
     "execution_count": 54,
     "metadata": {},
     "output_type": "execute_result"
    }
   ],
   "source": [
    "zone_lookup=pd.read_csv(r'C:\\Users\\ASUS\\Desktop\\texi-analysis\\data\\taxi_zone_lookup.csv')\n",
    "zone_lookup.head()"
   ]
  },
  {
   "cell_type": "code",
   "execution_count": 55,
   "id": "426461ad",
   "metadata": {},
   "outputs": [
    {
     "data": {
      "text/plain": [
       "LocationID       int64\n",
       "Borough         object\n",
       "Zone            object\n",
       "service_zone    object\n",
       "dtype: object"
      ]
     },
     "execution_count": 55,
     "metadata": {},
     "output_type": "execute_result"
    }
   ],
   "source": [
    "zone_lookup.dtypes"
   ]
  },
  {
   "cell_type": "code",
   "execution_count": 56,
   "id": "9c562d12",
   "metadata": {},
   "outputs": [
    {
     "data": {
      "text/html": [
       "<div>\n",
       "<style scoped>\n",
       "    .dataframe tbody tr th:only-of-type {\n",
       "        vertical-align: middle;\n",
       "    }\n",
       "\n",
       "    .dataframe tbody tr th {\n",
       "        vertical-align: top;\n",
       "    }\n",
       "\n",
       "    .dataframe thead th {\n",
       "        text-align: right;\n",
       "    }\n",
       "</style>\n",
       "<table border=\"1\" class=\"dataframe\">\n",
       "  <thead>\n",
       "    <tr style=\"text-align: right;\">\n",
       "      <th></th>\n",
       "      <th>LocationID</th>\n",
       "      <th>Borough</th>\n",
       "    </tr>\n",
       "  </thead>\n",
       "  <tbody>\n",
       "    <tr>\n",
       "      <th>0</th>\n",
       "      <td>1</td>\n",
       "      <td>EWR</td>\n",
       "    </tr>\n",
       "    <tr>\n",
       "      <th>1</th>\n",
       "      <td>2</td>\n",
       "      <td>Queens</td>\n",
       "    </tr>\n",
       "    <tr>\n",
       "      <th>2</th>\n",
       "      <td>3</td>\n",
       "      <td>Bronx</td>\n",
       "    </tr>\n",
       "    <tr>\n",
       "      <th>3</th>\n",
       "      <td>4</td>\n",
       "      <td>Manhattan</td>\n",
       "    </tr>\n",
       "    <tr>\n",
       "      <th>4</th>\n",
       "      <td>5</td>\n",
       "      <td>Staten Island</td>\n",
       "    </tr>\n",
       "  </tbody>\n",
       "</table>\n",
       "</div>"
      ],
      "text/plain": [
       "   LocationID        Borough\n",
       "0           1            EWR\n",
       "1           2         Queens\n",
       "2           3          Bronx\n",
       "3           4      Manhattan\n",
       "4           5  Staten Island"
      ]
     },
     "execution_count": 56,
     "metadata": {},
     "output_type": "execute_result"
    }
   ],
   "source": [
    "zone_lookup=zone_lookup[['LocationID','Borough']]\n",
    "zone_lookup.head()"
   ]
  },
  {
   "cell_type": "code",
   "execution_count": 57,
   "id": "d3b77caa",
   "metadata": {},
   "outputs": [
    {
     "data": {
      "text/plain": [
       "Borough\n",
       "Queens           69\n",
       "Manhattan        69\n",
       "Brooklyn         61\n",
       "Bronx            43\n",
       "Staten Island    20\n",
       "EWR               1\n",
       "Unknown           1\n",
       "Name: count, dtype: int64"
      ]
     },
     "execution_count": 57,
     "metadata": {},
     "output_type": "execute_result"
    }
   ],
   "source": [
    "zone_lookup['Borough'].value_counts()"
   ]
  },
  {
   "cell_type": "code",
   "execution_count": 58,
   "id": "bd6785ea",
   "metadata": {},
   "outputs": [],
   "source": [
    "data_with_new_feature['PULocationID'] = pd.to_numeric(data_with_new_feature['PULocationID'], errors='coerce')"
   ]
  },
  {
   "cell_type": "code",
   "execution_count": 59,
   "id": "1420ab04",
   "metadata": {},
   "outputs": [
    {
     "data": {
      "text/html": [
       "<div>\n",
       "<style scoped>\n",
       "    .dataframe tbody tr th:only-of-type {\n",
       "        vertical-align: middle;\n",
       "    }\n",
       "\n",
       "    .dataframe tbody tr th {\n",
       "        vertical-align: top;\n",
       "    }\n",
       "\n",
       "    .dataframe thead th {\n",
       "        text-align: right;\n",
       "    }\n",
       "</style>\n",
       "<table border=\"1\" class=\"dataframe\">\n",
       "  <thead>\n",
       "    <tr style=\"text-align: right;\">\n",
       "      <th></th>\n",
       "      <th>PULocationID</th>\n",
       "      <th>transaction_date</th>\n",
       "      <th>transaction_month</th>\n",
       "      <th>transaction_day</th>\n",
       "      <th>transaction_hour</th>\n",
       "      <th>trip_distance</th>\n",
       "      <th>total_amount</th>\n",
       "      <th>count_of_transaction</th>\n",
       "      <th>transaction_weekday</th>\n",
       "      <th>weekend</th>\n",
       "      <th>is_holiday</th>\n",
       "      <th>LocationID</th>\n",
       "      <th>Borough</th>\n",
       "    </tr>\n",
       "  </thead>\n",
       "  <tbody>\n",
       "    <tr>\n",
       "      <th>0</th>\n",
       "      <td>1.0</td>\n",
       "      <td>2019-01-01</td>\n",
       "      <td>1</td>\n",
       "      <td>1</td>\n",
       "      <td>0</td>\n",
       "      <td>2.810215</td>\n",
       "      <td>15.501245</td>\n",
       "      <td>13256</td>\n",
       "      <td>1</td>\n",
       "      <td>False</td>\n",
       "      <td>True</td>\n",
       "      <td>1.0</td>\n",
       "      <td>EWR</td>\n",
       "    </tr>\n",
       "    <tr>\n",
       "      <th>1</th>\n",
       "      <td>1.0</td>\n",
       "      <td>2019-01-01</td>\n",
       "      <td>1</td>\n",
       "      <td>1</td>\n",
       "      <td>1</td>\n",
       "      <td>3.008797</td>\n",
       "      <td>15.880940</td>\n",
       "      <td>15258</td>\n",
       "      <td>1</td>\n",
       "      <td>False</td>\n",
       "      <td>True</td>\n",
       "      <td>1.0</td>\n",
       "      <td>EWR</td>\n",
       "    </tr>\n",
       "    <tr>\n",
       "      <th>2</th>\n",
       "      <td>1.0</td>\n",
       "      <td>2019-01-01</td>\n",
       "      <td>1</td>\n",
       "      <td>1</td>\n",
       "      <td>2</td>\n",
       "      <td>3.125909</td>\n",
       "      <td>15.789893</td>\n",
       "      <td>13035</td>\n",
       "      <td>1</td>\n",
       "      <td>False</td>\n",
       "      <td>True</td>\n",
       "      <td>1.0</td>\n",
       "      <td>EWR</td>\n",
       "    </tr>\n",
       "    <tr>\n",
       "      <th>3</th>\n",
       "      <td>1.0</td>\n",
       "      <td>2019-01-01</td>\n",
       "      <td>1</td>\n",
       "      <td>1</td>\n",
       "      <td>3</td>\n",
       "      <td>3.203513</td>\n",
       "      <td>15.493270</td>\n",
       "      <td>10292</td>\n",
       "      <td>1</td>\n",
       "      <td>False</td>\n",
       "      <td>True</td>\n",
       "      <td>1.0</td>\n",
       "      <td>EWR</td>\n",
       "    </tr>\n",
       "    <tr>\n",
       "      <th>4</th>\n",
       "      <td>1.0</td>\n",
       "      <td>2019-01-01</td>\n",
       "      <td>1</td>\n",
       "      <td>1</td>\n",
       "      <td>4</td>\n",
       "      <td>3.535103</td>\n",
       "      <td>16.105968</td>\n",
       "      <td>6686</td>\n",
       "      <td>1</td>\n",
       "      <td>False</td>\n",
       "      <td>True</td>\n",
       "      <td>1.0</td>\n",
       "      <td>EWR</td>\n",
       "    </tr>\n",
       "  </tbody>\n",
       "</table>\n",
       "</div>"
      ],
      "text/plain": [
       "   PULocationID transaction_date  transaction_month  transaction_day  \\\n",
       "0           1.0       2019-01-01                  1                1   \n",
       "1           1.0       2019-01-01                  1                1   \n",
       "2           1.0       2019-01-01                  1                1   \n",
       "3           1.0       2019-01-01                  1                1   \n",
       "4           1.0       2019-01-01                  1                1   \n",
       "\n",
       "   transaction_hour  trip_distance  total_amount  count_of_transaction  \\\n",
       "0                 0       2.810215     15.501245                 13256   \n",
       "1                 1       3.008797     15.880940                 15258   \n",
       "2                 2       3.125909     15.789893                 13035   \n",
       "3                 3       3.203513     15.493270                 10292   \n",
       "4                 4       3.535103     16.105968                  6686   \n",
       "\n",
       "   transaction_weekday  weekend  is_holiday  LocationID Borough  \n",
       "0                    1    False        True         1.0     EWR  \n",
       "1                    1    False        True         1.0     EWR  \n",
       "2                    1    False        True         1.0     EWR  \n",
       "3                    1    False        True         1.0     EWR  \n",
       "4                    1    False        True         1.0     EWR  "
      ]
     },
     "execution_count": 59,
     "metadata": {},
     "output_type": "execute_result"
    }
   ],
   "source": [
    "data_with_new_feature=data_with_new_feature.merge(zone_lookup,left_on='PULocationID',right_on='LocationID',how='left')\n",
    "data_with_new_feature.head()"
   ]
  },
  {
   "cell_type": "code",
   "execution_count": 60,
   "id": "e06969f1",
   "metadata": {},
   "outputs": [],
   "source": [
    "# frames = [data_with_new_feature,zone_lookup]\n",
    "# result = pd.concat(frames)\n",
    "# display(result)"
   ]
  },
  {
   "cell_type": "code",
   "execution_count": 61,
   "id": "d45f7d29",
   "metadata": {},
   "outputs": [
    {
     "data": {
      "text/plain": [
       "Borough\n",
       "Staten Island    933\n",
       "EWR              744\n",
       "Queens           744\n",
       "Bronx            718\n",
       "Manhattan        717\n",
       "Name: count, dtype: int64"
      ]
     },
     "execution_count": 61,
     "metadata": {},
     "output_type": "execute_result"
    }
   ],
   "source": [
    "data_with_new_feature['Borough'].value_counts()"
   ]
  },
  {
   "cell_type": "code",
   "execution_count": 62,
   "id": "8dff219d",
   "metadata": {},
   "outputs": [
    {
     "data": {
      "text/html": [
       "<div>\n",
       "<style scoped>\n",
       "    .dataframe tbody tr th:only-of-type {\n",
       "        vertical-align: middle;\n",
       "    }\n",
       "\n",
       "    .dataframe tbody tr th {\n",
       "        vertical-align: top;\n",
       "    }\n",
       "\n",
       "    .dataframe thead th {\n",
       "        text-align: right;\n",
       "    }\n",
       "</style>\n",
       "<table border=\"1\" class=\"dataframe\">\n",
       "  <thead>\n",
       "    <tr style=\"text-align: right;\">\n",
       "      <th></th>\n",
       "      <th>date and time</th>\n",
       "      <th>temperature</th>\n",
       "      <th>humidity</th>\n",
       "      <th>wind speed</th>\n",
       "      <th>cloud cover</th>\n",
       "      <th>amount of precipitation</th>\n",
       "    </tr>\n",
       "  </thead>\n",
       "  <tbody>\n",
       "    <tr>\n",
       "      <th>0</th>\n",
       "      <td>31.12.2019 22:00</td>\n",
       "      <td>6.1</td>\n",
       "      <td>65</td>\n",
       "      <td>6</td>\n",
       "      <td>100%.</td>\n",
       "      <td>0.3</td>\n",
       "    </tr>\n",
       "    <tr>\n",
       "      <th>1</th>\n",
       "      <td>31.12.2019 19:00</td>\n",
       "      <td>6.7</td>\n",
       "      <td>71</td>\n",
       "      <td>5</td>\n",
       "      <td>70 – 80%.</td>\n",
       "      <td>NaN</td>\n",
       "    </tr>\n",
       "    <tr>\n",
       "      <th>2</th>\n",
       "      <td>31.12.2019 16:00</td>\n",
       "      <td>7.2</td>\n",
       "      <td>66</td>\n",
       "      <td>5</td>\n",
       "      <td>50%.</td>\n",
       "      <td>NaN</td>\n",
       "    </tr>\n",
       "    <tr>\n",
       "      <th>3</th>\n",
       "      <td>31.12.2019 13:00</td>\n",
       "      <td>6.1</td>\n",
       "      <td>76</td>\n",
       "      <td>3</td>\n",
       "      <td>100%.</td>\n",
       "      <td>Trace of precipitation</td>\n",
       "    </tr>\n",
       "    <tr>\n",
       "      <th>4</th>\n",
       "      <td>31.12.2019 10:00</td>\n",
       "      <td>4.4</td>\n",
       "      <td>83</td>\n",
       "      <td>2</td>\n",
       "      <td>100%.</td>\n",
       "      <td>Trace of precipitation</td>\n",
       "    </tr>\n",
       "  </tbody>\n",
       "</table>\n",
       "</div>"
      ],
      "text/plain": [
       "      date and time  temperature  humidity  wind speed cloud cover  \\\n",
       "0  31.12.2019 22:00          6.1        65           6       100%.   \n",
       "1  31.12.2019 19:00          6.7        71           5   70 – 80%.   \n",
       "2  31.12.2019 16:00          7.2        66           5        50%.   \n",
       "3  31.12.2019 13:00          6.1        76           3       100%.   \n",
       "4  31.12.2019 10:00          4.4        83           2       100%.   \n",
       "\n",
       "  amount of precipitation  \n",
       "0                     0.3  \n",
       "1                     NaN  \n",
       "2                     NaN  \n",
       "3  Trace of precipitation  \n",
       "4  Trace of precipitation  "
      ]
     },
     "execution_count": 62,
     "metadata": {},
     "output_type": "execute_result"
    }
   ],
   "source": [
    "nyc_weather=pd.read_csv(r'C:\\Users\\ASUS\\Desktop\\texi-analysis\\data\\nyc_weather.csv')\n",
    "nyc_weather.head()"
   ]
  },
  {
   "cell_type": "code",
   "execution_count": 63,
   "id": "4ecb1106",
   "metadata": {},
   "outputs": [
    {
     "data": {
      "text/plain": [
       "date and time               object\n",
       "temperature                float64\n",
       "humidity                     int64\n",
       "wind speed                   int64\n",
       "cloud cover                 object\n",
       "amount of precipitation     object\n",
       "dtype: object"
      ]
     },
     "execution_count": 63,
     "metadata": {},
     "output_type": "execute_result"
    }
   ],
   "source": [
    "nyc_weather.dtypes"
   ]
  },
  {
   "cell_type": "code",
   "execution_count": 64,
   "id": "d3b18745",
   "metadata": {},
   "outputs": [
    {
     "data": {
      "text/plain": [
       "cloud cover\n",
       "70 – 80%.                                                     973\n",
       "100%.                                                         896\n",
       "20–30%.                                                       479\n",
       "50%.                                                          413\n",
       "no clouds                                                     168\n",
       "Sky obscured by fog and/or other meteorological phenomena.      3\n",
       "Name: count, dtype: int64"
      ]
     },
     "execution_count": 64,
     "metadata": {},
     "output_type": "execute_result"
    }
   ],
   "source": [
    "nyc_weather['cloud cover'].value_counts()"
   ]
  },
  {
   "cell_type": "code",
   "execution_count": 65,
   "id": "2a310ee1",
   "metadata": {},
   "outputs": [
    {
     "data": {
      "text/plain": [
       "amount of precipitation\n",
       "Trace of precipitation    266\n",
       "0.3                        61\n",
       "2.0                        49\n",
       "1.0                        45\n",
       "0.5                        42\n",
       "0.8                        42\n",
       "4.0                        33\n",
       "5.0                        24\n",
       "3.0                        23\n",
       "6.0                        19\n",
       "7.0                        13\n",
       "8.0                        13\n",
       "9.0                        11\n",
       "10.0                       10\n",
       "13.0                        7\n",
       "12.0                        7\n",
       "15.0                        6\n",
       "11.0                        5\n",
       "16.0                        3\n",
       "22.0                        2\n",
       "14.0                        2\n",
       "29.0                        2\n",
       "63.0                        1\n",
       "21.0                        1\n",
       "68.0                        1\n",
       "17.0                        1\n",
       "20.0                        1\n",
       "30.0                        1\n",
       "35.0                        1\n",
       "34.0                        1\n",
       "24.0                        1\n",
       "18.0                        1\n",
       "25.0                        1\n",
       "Name: count, dtype: int64"
      ]
     },
     "execution_count": 65,
     "metadata": {},
     "output_type": "execute_result"
    }
   ],
   "source": [
    "nyc_weather['amount of precipitation'].value_counts()"
   ]
  },
  {
   "cell_type": "code",
   "execution_count": 66,
   "id": "0d2e13d6",
   "metadata": {},
   "outputs": [
    {
     "data": {
      "text/plain": [
       "date and time                 0\n",
       "temperature                   0\n",
       "humidity                      0\n",
       "wind speed                    0\n",
       "cloud cover                   4\n",
       "amount of precipitation    2240\n",
       "dtype: int64"
      ]
     },
     "execution_count": 66,
     "metadata": {},
     "output_type": "execute_result"
    }
   ],
   "source": [
    "nyc_weather.isna().sum()"
   ]
  },
  {
   "cell_type": "code",
   "execution_count": 67,
   "id": "5d7edb64",
   "metadata": {},
   "outputs": [],
   "source": [
    "nyc_weather['amount of precipitation']=nyc_weather['amount of precipitation'].replace('Trace of precipitation',0.1)\n",
    "nyc_weather['amount of precipitation']=nyc_weather['amount of precipitation'].astype(float)\n",
    "nyc_weather['amount of precipitation'].interpolate(inplace=True)"
   ]
  },
  {
   "cell_type": "code",
   "execution_count": 68,
   "id": "807f2fd8",
   "metadata": {},
   "outputs": [],
   "source": [
    "nyc_weather['cloud cover']=nyc_weather['cloud cover'].replace('70 – 80%.',0.7)\n",
    "nyc_weather['cloud cover']=nyc_weather['cloud cover'].replace('100%.',1)\n",
    "nyc_weather['cloud cover']=nyc_weather['cloud cover'].replace('50%.',0.5)\n",
    "nyc_weather['cloud cover']=nyc_weather['cloud cover'].replace('20–30%.',0.3)\n",
    "nyc_weather['cloud cover']=nyc_weather['cloud cover'].replace('no clouds',0)\n",
    "nyc_weather['cloud cover']=nyc_weather['cloud cover'].replace('Sky obscured by fog and/or other meteorological phenomena.',1)\n",
    "nyc_weather['cloud cover']=nyc_weather['cloud cover'].astype(float)\n",
    "nyc_weather['cloud cover'].interpolate(inplace=True)"
   ]
  },
  {
   "cell_type": "code",
   "execution_count": 69,
   "id": "4b9e3c63",
   "metadata": {},
   "outputs": [
    {
     "data": {
      "text/plain": [
       "date and time               object\n",
       "temperature                float64\n",
       "humidity                     int64\n",
       "wind speed                   int64\n",
       "cloud cover                float64\n",
       "amount of precipitation    float64\n",
       "dtype: object"
      ]
     },
     "execution_count": 69,
     "metadata": {},
     "output_type": "execute_result"
    }
   ],
   "source": [
    "nyc_weather.dtypes"
   ]
  },
  {
   "cell_type": "code",
   "execution_count": 70,
   "id": "e3e49875",
   "metadata": {},
   "outputs": [
    {
     "name": "stderr",
     "output_type": "stream",
     "text": [
      "C:\\Users\\ASUS\\AppData\\Local\\Temp\\ipykernel_34172\\2040359130.py:1: UserWarning: Parsing dates in %d.%m.%Y %H:%M format when dayfirst=False (the default) was specified. Pass `dayfirst=True` or specify a format to silence this warning.\n",
      "  nyc_weather['date and time'] = pd.to_datetime(nyc_weather['date and time'])\n"
     ]
    }
   ],
   "source": [
    "nyc_weather['date and time'] = pd.to_datetime(nyc_weather['date and time'])\n",
    "nyc_weather['day']=nyc_weather['date and time'].dt.day\n",
    "nyc_weather['month']=nyc_weather['date and time'].dt.month\n",
    "nyc_weather['hour']=nyc_weather['date and time'].dt.hour"
   ]
  },
  {
   "cell_type": "code",
   "execution_count": 71,
   "id": "51846d9b",
   "metadata": {},
   "outputs": [
    {
     "data": {
      "text/html": [
       "<div>\n",
       "<style scoped>\n",
       "    .dataframe tbody tr th:only-of-type {\n",
       "        vertical-align: middle;\n",
       "    }\n",
       "\n",
       "    .dataframe tbody tr th {\n",
       "        vertical-align: top;\n",
       "    }\n",
       "\n",
       "    .dataframe thead th {\n",
       "        text-align: right;\n",
       "    }\n",
       "</style>\n",
       "<table border=\"1\" class=\"dataframe\">\n",
       "  <thead>\n",
       "    <tr style=\"text-align: right;\">\n",
       "      <th></th>\n",
       "      <th>date and time</th>\n",
       "      <th>temperature</th>\n",
       "      <th>humidity</th>\n",
       "      <th>wind speed</th>\n",
       "      <th>cloud cover</th>\n",
       "      <th>amount of precipitation</th>\n",
       "      <th>day</th>\n",
       "      <th>month</th>\n",
       "      <th>hour</th>\n",
       "    </tr>\n",
       "  </thead>\n",
       "  <tbody>\n",
       "    <tr>\n",
       "      <th>0</th>\n",
       "      <td>2019-12-31 22:00:00</td>\n",
       "      <td>6.1</td>\n",
       "      <td>65</td>\n",
       "      <td>6</td>\n",
       "      <td>1.0</td>\n",
       "      <td>0.300000</td>\n",
       "      <td>31</td>\n",
       "      <td>12</td>\n",
       "      <td>22</td>\n",
       "    </tr>\n",
       "    <tr>\n",
       "      <th>1</th>\n",
       "      <td>2019-12-31 19:00:00</td>\n",
       "      <td>6.7</td>\n",
       "      <td>71</td>\n",
       "      <td>5</td>\n",
       "      <td>0.7</td>\n",
       "      <td>0.233333</td>\n",
       "      <td>31</td>\n",
       "      <td>12</td>\n",
       "      <td>19</td>\n",
       "    </tr>\n",
       "    <tr>\n",
       "      <th>2</th>\n",
       "      <td>2019-12-31 16:00:00</td>\n",
       "      <td>7.2</td>\n",
       "      <td>66</td>\n",
       "      <td>5</td>\n",
       "      <td>0.5</td>\n",
       "      <td>0.166667</td>\n",
       "      <td>31</td>\n",
       "      <td>12</td>\n",
       "      <td>16</td>\n",
       "    </tr>\n",
       "    <tr>\n",
       "      <th>3</th>\n",
       "      <td>2019-12-31 13:00:00</td>\n",
       "      <td>6.1</td>\n",
       "      <td>76</td>\n",
       "      <td>3</td>\n",
       "      <td>1.0</td>\n",
       "      <td>0.100000</td>\n",
       "      <td>31</td>\n",
       "      <td>12</td>\n",
       "      <td>13</td>\n",
       "    </tr>\n",
       "    <tr>\n",
       "      <th>4</th>\n",
       "      <td>2019-12-31 10:00:00</td>\n",
       "      <td>4.4</td>\n",
       "      <td>83</td>\n",
       "      <td>2</td>\n",
       "      <td>1.0</td>\n",
       "      <td>0.100000</td>\n",
       "      <td>31</td>\n",
       "      <td>12</td>\n",
       "      <td>10</td>\n",
       "    </tr>\n",
       "  </tbody>\n",
       "</table>\n",
       "</div>"
      ],
      "text/plain": [
       "        date and time  temperature  humidity  wind speed  cloud cover  \\\n",
       "0 2019-12-31 22:00:00          6.1        65           6          1.0   \n",
       "1 2019-12-31 19:00:00          6.7        71           5          0.7   \n",
       "2 2019-12-31 16:00:00          7.2        66           5          0.5   \n",
       "3 2019-12-31 13:00:00          6.1        76           3          1.0   \n",
       "4 2019-12-31 10:00:00          4.4        83           2          1.0   \n",
       "\n",
       "   amount of precipitation  day  month  hour  \n",
       "0                 0.300000   31     12    22  \n",
       "1                 0.233333   31     12    19  \n",
       "2                 0.166667   31     12    16  \n",
       "3                 0.100000   31     12    13  \n",
       "4                 0.100000   31     12    10  "
      ]
     },
     "execution_count": 71,
     "metadata": {},
     "output_type": "execute_result"
    }
   ],
   "source": [
    "nyc_weather.head()"
   ]
  },
  {
   "cell_type": "code",
   "execution_count": 72,
   "id": "307e940b",
   "metadata": {},
   "outputs": [
    {
     "data": {
      "text/plain": [
       "date and time              datetime64[ns]\n",
       "temperature                       float64\n",
       "humidity                            int64\n",
       "wind speed                          int64\n",
       "cloud cover                       float64\n",
       "amount of precipitation           float64\n",
       "day                                 int32\n",
       "month                               int32\n",
       "hour                                int32\n",
       "dtype: object"
      ]
     },
     "execution_count": 72,
     "metadata": {},
     "output_type": "execute_result"
    }
   ],
   "source": [
    "nyc_weather.dtypes"
   ]
  },
  {
   "cell_type": "code",
   "execution_count": 73,
   "id": "f0caaf0a",
   "metadata": {},
   "outputs": [
    {
     "data": {
      "text/html": [
       "<div>\n",
       "<style scoped>\n",
       "    .dataframe tbody tr th:only-of-type {\n",
       "        vertical-align: middle;\n",
       "    }\n",
       "\n",
       "    .dataframe tbody tr th {\n",
       "        vertical-align: top;\n",
       "    }\n",
       "\n",
       "    .dataframe thead th {\n",
       "        text-align: right;\n",
       "    }\n",
       "</style>\n",
       "<table border=\"1\" class=\"dataframe\">\n",
       "  <thead>\n",
       "    <tr style=\"text-align: right;\">\n",
       "      <th></th>\n",
       "      <th>PULocationID</th>\n",
       "      <th>transaction_date</th>\n",
       "      <th>transaction_month</th>\n",
       "      <th>transaction_day</th>\n",
       "      <th>transaction_hour</th>\n",
       "      <th>trip_distance</th>\n",
       "      <th>total_amount</th>\n",
       "      <th>count_of_transaction</th>\n",
       "      <th>transaction_weekday</th>\n",
       "      <th>weekend</th>\n",
       "      <th>is_holiday</th>\n",
       "      <th>LocationID</th>\n",
       "      <th>Borough</th>\n",
       "    </tr>\n",
       "  </thead>\n",
       "  <tbody>\n",
       "    <tr>\n",
       "      <th>0</th>\n",
       "      <td>1.0</td>\n",
       "      <td>2019-01-01</td>\n",
       "      <td>1</td>\n",
       "      <td>1</td>\n",
       "      <td>0</td>\n",
       "      <td>2.810215</td>\n",
       "      <td>15.501245</td>\n",
       "      <td>13256</td>\n",
       "      <td>1</td>\n",
       "      <td>False</td>\n",
       "      <td>True</td>\n",
       "      <td>1.0</td>\n",
       "      <td>EWR</td>\n",
       "    </tr>\n",
       "    <tr>\n",
       "      <th>1</th>\n",
       "      <td>1.0</td>\n",
       "      <td>2019-01-01</td>\n",
       "      <td>1</td>\n",
       "      <td>1</td>\n",
       "      <td>1</td>\n",
       "      <td>3.008797</td>\n",
       "      <td>15.880940</td>\n",
       "      <td>15258</td>\n",
       "      <td>1</td>\n",
       "      <td>False</td>\n",
       "      <td>True</td>\n",
       "      <td>1.0</td>\n",
       "      <td>EWR</td>\n",
       "    </tr>\n",
       "    <tr>\n",
       "      <th>2</th>\n",
       "      <td>1.0</td>\n",
       "      <td>2019-01-01</td>\n",
       "      <td>1</td>\n",
       "      <td>1</td>\n",
       "      <td>2</td>\n",
       "      <td>3.125909</td>\n",
       "      <td>15.789893</td>\n",
       "      <td>13035</td>\n",
       "      <td>1</td>\n",
       "      <td>False</td>\n",
       "      <td>True</td>\n",
       "      <td>1.0</td>\n",
       "      <td>EWR</td>\n",
       "    </tr>\n",
       "    <tr>\n",
       "      <th>3</th>\n",
       "      <td>1.0</td>\n",
       "      <td>2019-01-01</td>\n",
       "      <td>1</td>\n",
       "      <td>1</td>\n",
       "      <td>3</td>\n",
       "      <td>3.203513</td>\n",
       "      <td>15.493270</td>\n",
       "      <td>10292</td>\n",
       "      <td>1</td>\n",
       "      <td>False</td>\n",
       "      <td>True</td>\n",
       "      <td>1.0</td>\n",
       "      <td>EWR</td>\n",
       "    </tr>\n",
       "    <tr>\n",
       "      <th>4</th>\n",
       "      <td>1.0</td>\n",
       "      <td>2019-01-01</td>\n",
       "      <td>1</td>\n",
       "      <td>1</td>\n",
       "      <td>4</td>\n",
       "      <td>3.535103</td>\n",
       "      <td>16.105968</td>\n",
       "      <td>6686</td>\n",
       "      <td>1</td>\n",
       "      <td>False</td>\n",
       "      <td>True</td>\n",
       "      <td>1.0</td>\n",
       "      <td>EWR</td>\n",
       "    </tr>\n",
       "  </tbody>\n",
       "</table>\n",
       "</div>"
      ],
      "text/plain": [
       "   PULocationID transaction_date  transaction_month  transaction_day  \\\n",
       "0           1.0       2019-01-01                  1                1   \n",
       "1           1.0       2019-01-01                  1                1   \n",
       "2           1.0       2019-01-01                  1                1   \n",
       "3           1.0       2019-01-01                  1                1   \n",
       "4           1.0       2019-01-01                  1                1   \n",
       "\n",
       "   transaction_hour  trip_distance  total_amount  count_of_transaction  \\\n",
       "0                 0       2.810215     15.501245                 13256   \n",
       "1                 1       3.008797     15.880940                 15258   \n",
       "2                 2       3.125909     15.789893                 13035   \n",
       "3                 3       3.203513     15.493270                 10292   \n",
       "4                 4       3.535103     16.105968                  6686   \n",
       "\n",
       "   transaction_weekday  weekend  is_holiday  LocationID Borough  \n",
       "0                    1    False        True         1.0     EWR  \n",
       "1                    1    False        True         1.0     EWR  \n",
       "2                    1    False        True         1.0     EWR  \n",
       "3                    1    False        True         1.0     EWR  \n",
       "4                    1    False        True         1.0     EWR  "
      ]
     },
     "execution_count": 73,
     "metadata": {},
     "output_type": "execute_result"
    }
   ],
   "source": [
    "data_with_new_feature.head()"
   ]
  },
  {
   "cell_type": "code",
   "execution_count": 74,
   "id": "4b4ba2c3",
   "metadata": {},
   "outputs": [
    {
     "data": {
      "text/plain": [
       "PULocationID                   float64\n",
       "transaction_date        datetime64[ns]\n",
       "transaction_month                int32\n",
       "transaction_day                  int32\n",
       "transaction_hour                 int32\n",
       "trip_distance                  float64\n",
       "total_amount                   float64\n",
       "count_of_transaction             int64\n",
       "transaction_weekday              int32\n",
       "weekend                           bool\n",
       "is_holiday                        bool\n",
       "LocationID                     float64\n",
       "Borough                         object\n",
       "dtype: object"
      ]
     },
     "execution_count": 74,
     "metadata": {},
     "output_type": "execute_result"
    }
   ],
   "source": [
    "data_with_new_feature.dtypes"
   ]
  },
  {
   "cell_type": "code",
   "execution_count": 75,
   "id": "3eb5b6cc",
   "metadata": {},
   "outputs": [
    {
     "name": "stdout",
     "output_type": "stream",
     "text": [
      "(4552, 22)\n"
     ]
    },
    {
     "data": {
      "text/html": [
       "<div>\n",
       "<style scoped>\n",
       "    .dataframe tbody tr th:only-of-type {\n",
       "        vertical-align: middle;\n",
       "    }\n",
       "\n",
       "    .dataframe tbody tr th {\n",
       "        vertical-align: top;\n",
       "    }\n",
       "\n",
       "    .dataframe thead th {\n",
       "        text-align: right;\n",
       "    }\n",
       "</style>\n",
       "<table border=\"1\" class=\"dataframe\">\n",
       "  <thead>\n",
       "    <tr style=\"text-align: right;\">\n",
       "      <th></th>\n",
       "      <th>PULocationID</th>\n",
       "      <th>transaction_date</th>\n",
       "      <th>transaction_month</th>\n",
       "      <th>transaction_day</th>\n",
       "      <th>transaction_hour</th>\n",
       "      <th>trip_distance</th>\n",
       "      <th>total_amount</th>\n",
       "      <th>count_of_transaction</th>\n",
       "      <th>transaction_weekday</th>\n",
       "      <th>weekend</th>\n",
       "      <th>...</th>\n",
       "      <th>Borough</th>\n",
       "      <th>date and time</th>\n",
       "      <th>temperature</th>\n",
       "      <th>humidity</th>\n",
       "      <th>wind speed</th>\n",
       "      <th>cloud cover</th>\n",
       "      <th>amount of precipitation</th>\n",
       "      <th>day</th>\n",
       "      <th>month</th>\n",
       "      <th>hour</th>\n",
       "    </tr>\n",
       "  </thead>\n",
       "  <tbody>\n",
       "    <tr>\n",
       "      <th>0</th>\n",
       "      <td>1.0</td>\n",
       "      <td>2019-01-01</td>\n",
       "      <td>1</td>\n",
       "      <td>1</td>\n",
       "      <td>0</td>\n",
       "      <td>2.810215</td>\n",
       "      <td>15.501245</td>\n",
       "      <td>13256</td>\n",
       "      <td>1</td>\n",
       "      <td>False</td>\n",
       "      <td>...</td>\n",
       "      <td>EWR</td>\n",
       "      <td>NaT</td>\n",
       "      <td>NaN</td>\n",
       "      <td>NaN</td>\n",
       "      <td>NaN</td>\n",
       "      <td>NaN</td>\n",
       "      <td>NaN</td>\n",
       "      <td>NaN</td>\n",
       "      <td>NaN</td>\n",
       "      <td>NaN</td>\n",
       "    </tr>\n",
       "    <tr>\n",
       "      <th>1</th>\n",
       "      <td>1.0</td>\n",
       "      <td>2019-01-01</td>\n",
       "      <td>1</td>\n",
       "      <td>1</td>\n",
       "      <td>1</td>\n",
       "      <td>3.008797</td>\n",
       "      <td>15.880940</td>\n",
       "      <td>15258</td>\n",
       "      <td>1</td>\n",
       "      <td>False</td>\n",
       "      <td>...</td>\n",
       "      <td>EWR</td>\n",
       "      <td>2019-01-01 01:00:00</td>\n",
       "      <td>8.3</td>\n",
       "      <td>97.0</td>\n",
       "      <td>0.0</td>\n",
       "      <td>1.0</td>\n",
       "      <td>29.0</td>\n",
       "      <td>1.0</td>\n",
       "      <td>1.0</td>\n",
       "      <td>1.0</td>\n",
       "    </tr>\n",
       "    <tr>\n",
       "      <th>2</th>\n",
       "      <td>1.0</td>\n",
       "      <td>2019-01-01</td>\n",
       "      <td>1</td>\n",
       "      <td>1</td>\n",
       "      <td>2</td>\n",
       "      <td>3.125909</td>\n",
       "      <td>15.789893</td>\n",
       "      <td>13035</td>\n",
       "      <td>1</td>\n",
       "      <td>False</td>\n",
       "      <td>...</td>\n",
       "      <td>EWR</td>\n",
       "      <td>NaT</td>\n",
       "      <td>NaN</td>\n",
       "      <td>NaN</td>\n",
       "      <td>NaN</td>\n",
       "      <td>NaN</td>\n",
       "      <td>NaN</td>\n",
       "      <td>NaN</td>\n",
       "      <td>NaN</td>\n",
       "      <td>NaN</td>\n",
       "    </tr>\n",
       "    <tr>\n",
       "      <th>3</th>\n",
       "      <td>1.0</td>\n",
       "      <td>2019-01-01</td>\n",
       "      <td>1</td>\n",
       "      <td>1</td>\n",
       "      <td>3</td>\n",
       "      <td>3.203513</td>\n",
       "      <td>15.493270</td>\n",
       "      <td>10292</td>\n",
       "      <td>1</td>\n",
       "      <td>False</td>\n",
       "      <td>...</td>\n",
       "      <td>EWR</td>\n",
       "      <td>NaT</td>\n",
       "      <td>NaN</td>\n",
       "      <td>NaN</td>\n",
       "      <td>NaN</td>\n",
       "      <td>NaN</td>\n",
       "      <td>NaN</td>\n",
       "      <td>NaN</td>\n",
       "      <td>NaN</td>\n",
       "      <td>NaN</td>\n",
       "    </tr>\n",
       "    <tr>\n",
       "      <th>4</th>\n",
       "      <td>1.0</td>\n",
       "      <td>2019-01-01</td>\n",
       "      <td>1</td>\n",
       "      <td>1</td>\n",
       "      <td>4</td>\n",
       "      <td>3.535103</td>\n",
       "      <td>16.105968</td>\n",
       "      <td>6686</td>\n",
       "      <td>1</td>\n",
       "      <td>False</td>\n",
       "      <td>...</td>\n",
       "      <td>EWR</td>\n",
       "      <td>2019-01-01 04:00:00</td>\n",
       "      <td>12.2</td>\n",
       "      <td>93.0</td>\n",
       "      <td>7.0</td>\n",
       "      <td>1.0</td>\n",
       "      <td>0.5</td>\n",
       "      <td>1.0</td>\n",
       "      <td>1.0</td>\n",
       "      <td>4.0</td>\n",
       "    </tr>\n",
       "  </tbody>\n",
       "</table>\n",
       "<p>5 rows × 22 columns</p>\n",
       "</div>"
      ],
      "text/plain": [
       "   PULocationID transaction_date  transaction_month  transaction_day  \\\n",
       "0           1.0       2019-01-01                  1                1   \n",
       "1           1.0       2019-01-01                  1                1   \n",
       "2           1.0       2019-01-01                  1                1   \n",
       "3           1.0       2019-01-01                  1                1   \n",
       "4           1.0       2019-01-01                  1                1   \n",
       "\n",
       "   transaction_hour  trip_distance  total_amount  count_of_transaction  \\\n",
       "0                 0       2.810215     15.501245                 13256   \n",
       "1                 1       3.008797     15.880940                 15258   \n",
       "2                 2       3.125909     15.789893                 13035   \n",
       "3                 3       3.203513     15.493270                 10292   \n",
       "4                 4       3.535103     16.105968                  6686   \n",
       "\n",
       "   transaction_weekday  weekend  ...  Borough       date and time temperature  \\\n",
       "0                    1    False  ...      EWR                 NaT         NaN   \n",
       "1                    1    False  ...      EWR 2019-01-01 01:00:00         8.3   \n",
       "2                    1    False  ...      EWR                 NaT         NaN   \n",
       "3                    1    False  ...      EWR                 NaT         NaN   \n",
       "4                    1    False  ...      EWR 2019-01-01 04:00:00        12.2   \n",
       "\n",
       "  humidity  wind speed  cloud cover  amount of precipitation  day  month  hour  \n",
       "0      NaN         NaN          NaN                      NaN  NaN    NaN   NaN  \n",
       "1     97.0         0.0          1.0                     29.0  1.0    1.0   1.0  \n",
       "2      NaN         NaN          NaN                      NaN  NaN    NaN   NaN  \n",
       "3      NaN         NaN          NaN                      NaN  NaN    NaN   NaN  \n",
       "4     93.0         7.0          1.0                      0.5  1.0    1.0   4.0  \n",
       "\n",
       "[5 rows x 22 columns]"
      ]
     },
     "execution_count": 75,
     "metadata": {},
     "output_type": "execute_result"
    }
   ],
   "source": [
    "nyc_taxi_with_weather=data_with_new_feature.merge(nyc_weather,left_on=['transaction_month','transaction_day','transaction_hour'],right_on=['month','day','hour'],how=\"left\")\n",
    "print(nyc_taxi_with_weather.shape)\n",
    "nyc_taxi_with_weather.head()"
   ]
  },
  {
   "cell_type": "code",
   "execution_count": 76,
   "id": "cb878a28",
   "metadata": {},
   "outputs": [],
   "source": [
    "nyc_taxi_with_weather=nyc_taxi_with_weather.drop(['date and time','month','day','hour'],axis=1)"
   ]
  },
  {
   "cell_type": "code",
   "execution_count": 77,
   "id": "791a892d",
   "metadata": {},
   "outputs": [
    {
     "name": "stdout",
     "output_type": "stream",
     "text": [
      "(4552, 18)\n"
     ]
    },
    {
     "data": {
      "text/html": [
       "<div>\n",
       "<style scoped>\n",
       "    .dataframe tbody tr th:only-of-type {\n",
       "        vertical-align: middle;\n",
       "    }\n",
       "\n",
       "    .dataframe tbody tr th {\n",
       "        vertical-align: top;\n",
       "    }\n",
       "\n",
       "    .dataframe thead th {\n",
       "        text-align: right;\n",
       "    }\n",
       "</style>\n",
       "<table border=\"1\" class=\"dataframe\">\n",
       "  <thead>\n",
       "    <tr style=\"text-align: right;\">\n",
       "      <th></th>\n",
       "      <th>PULocationID</th>\n",
       "      <th>transaction_date</th>\n",
       "      <th>transaction_month</th>\n",
       "      <th>transaction_day</th>\n",
       "      <th>transaction_hour</th>\n",
       "      <th>trip_distance</th>\n",
       "      <th>total_amount</th>\n",
       "      <th>count_of_transaction</th>\n",
       "      <th>transaction_weekday</th>\n",
       "      <th>weekend</th>\n",
       "      <th>is_holiday</th>\n",
       "      <th>LocationID</th>\n",
       "      <th>Borough</th>\n",
       "      <th>temperature</th>\n",
       "      <th>humidity</th>\n",
       "      <th>wind speed</th>\n",
       "      <th>cloud cover</th>\n",
       "      <th>amount of precipitation</th>\n",
       "    </tr>\n",
       "  </thead>\n",
       "  <tbody>\n",
       "    <tr>\n",
       "      <th>0</th>\n",
       "      <td>1.0</td>\n",
       "      <td>2019-01-01</td>\n",
       "      <td>1</td>\n",
       "      <td>1</td>\n",
       "      <td>0</td>\n",
       "      <td>2.810215</td>\n",
       "      <td>15.501245</td>\n",
       "      <td>13256</td>\n",
       "      <td>1</td>\n",
       "      <td>False</td>\n",
       "      <td>True</td>\n",
       "      <td>1.0</td>\n",
       "      <td>EWR</td>\n",
       "      <td>NaN</td>\n",
       "      <td>NaN</td>\n",
       "      <td>NaN</td>\n",
       "      <td>NaN</td>\n",
       "      <td>NaN</td>\n",
       "    </tr>\n",
       "    <tr>\n",
       "      <th>1</th>\n",
       "      <td>1.0</td>\n",
       "      <td>2019-01-01</td>\n",
       "      <td>1</td>\n",
       "      <td>1</td>\n",
       "      <td>1</td>\n",
       "      <td>3.008797</td>\n",
       "      <td>15.880940</td>\n",
       "      <td>15258</td>\n",
       "      <td>1</td>\n",
       "      <td>False</td>\n",
       "      <td>True</td>\n",
       "      <td>1.0</td>\n",
       "      <td>EWR</td>\n",
       "      <td>8.3</td>\n",
       "      <td>97.0</td>\n",
       "      <td>0.0</td>\n",
       "      <td>1.0</td>\n",
       "      <td>29.0</td>\n",
       "    </tr>\n",
       "    <tr>\n",
       "      <th>2</th>\n",
       "      <td>1.0</td>\n",
       "      <td>2019-01-01</td>\n",
       "      <td>1</td>\n",
       "      <td>1</td>\n",
       "      <td>2</td>\n",
       "      <td>3.125909</td>\n",
       "      <td>15.789893</td>\n",
       "      <td>13035</td>\n",
       "      <td>1</td>\n",
       "      <td>False</td>\n",
       "      <td>True</td>\n",
       "      <td>1.0</td>\n",
       "      <td>EWR</td>\n",
       "      <td>NaN</td>\n",
       "      <td>NaN</td>\n",
       "      <td>NaN</td>\n",
       "      <td>NaN</td>\n",
       "      <td>NaN</td>\n",
       "    </tr>\n",
       "    <tr>\n",
       "      <th>3</th>\n",
       "      <td>1.0</td>\n",
       "      <td>2019-01-01</td>\n",
       "      <td>1</td>\n",
       "      <td>1</td>\n",
       "      <td>3</td>\n",
       "      <td>3.203513</td>\n",
       "      <td>15.493270</td>\n",
       "      <td>10292</td>\n",
       "      <td>1</td>\n",
       "      <td>False</td>\n",
       "      <td>True</td>\n",
       "      <td>1.0</td>\n",
       "      <td>EWR</td>\n",
       "      <td>NaN</td>\n",
       "      <td>NaN</td>\n",
       "      <td>NaN</td>\n",
       "      <td>NaN</td>\n",
       "      <td>NaN</td>\n",
       "    </tr>\n",
       "    <tr>\n",
       "      <th>4</th>\n",
       "      <td>1.0</td>\n",
       "      <td>2019-01-01</td>\n",
       "      <td>1</td>\n",
       "      <td>1</td>\n",
       "      <td>4</td>\n",
       "      <td>3.535103</td>\n",
       "      <td>16.105968</td>\n",
       "      <td>6686</td>\n",
       "      <td>1</td>\n",
       "      <td>False</td>\n",
       "      <td>True</td>\n",
       "      <td>1.0</td>\n",
       "      <td>EWR</td>\n",
       "      <td>12.2</td>\n",
       "      <td>93.0</td>\n",
       "      <td>7.0</td>\n",
       "      <td>1.0</td>\n",
       "      <td>0.5</td>\n",
       "    </tr>\n",
       "  </tbody>\n",
       "</table>\n",
       "</div>"
      ],
      "text/plain": [
       "   PULocationID transaction_date  transaction_month  transaction_day  \\\n",
       "0           1.0       2019-01-01                  1                1   \n",
       "1           1.0       2019-01-01                  1                1   \n",
       "2           1.0       2019-01-01                  1                1   \n",
       "3           1.0       2019-01-01                  1                1   \n",
       "4           1.0       2019-01-01                  1                1   \n",
       "\n",
       "   transaction_hour  trip_distance  total_amount  count_of_transaction  \\\n",
       "0                 0       2.810215     15.501245                 13256   \n",
       "1                 1       3.008797     15.880940                 15258   \n",
       "2                 2       3.125909     15.789893                 13035   \n",
       "3                 3       3.203513     15.493270                 10292   \n",
       "4                 4       3.535103     16.105968                  6686   \n",
       "\n",
       "   transaction_weekday  weekend  is_holiday  LocationID Borough  temperature  \\\n",
       "0                    1    False        True         1.0     EWR          NaN   \n",
       "1                    1    False        True         1.0     EWR          8.3   \n",
       "2                    1    False        True         1.0     EWR          NaN   \n",
       "3                    1    False        True         1.0     EWR          NaN   \n",
       "4                    1    False        True         1.0     EWR         12.2   \n",
       "\n",
       "   humidity  wind speed  cloud cover  amount of precipitation  \n",
       "0       NaN         NaN          NaN                      NaN  \n",
       "1      97.0         0.0          1.0                     29.0  \n",
       "2       NaN         NaN          NaN                      NaN  \n",
       "3       NaN         NaN          NaN                      NaN  \n",
       "4      93.0         7.0          1.0                      0.5  "
      ]
     },
     "execution_count": 77,
     "metadata": {},
     "output_type": "execute_result"
    }
   ],
   "source": [
    "print(nyc_taxi_with_weather.shape)\n",
    "nyc_taxi_with_weather.head()"
   ]
  },
  {
   "cell_type": "code",
   "execution_count": 78,
   "id": "c55617c8",
   "metadata": {},
   "outputs": [
    {
     "data": {
      "text/plain": [
       "PULocationID                696\n",
       "transaction_date              0\n",
       "transaction_month             0\n",
       "transaction_day               0\n",
       "transaction_hour              0\n",
       "trip_distance                 0\n",
       "total_amount                  0\n",
       "count_of_transaction          0\n",
       "transaction_weekday           0\n",
       "weekend                       0\n",
       "is_holiday                    0\n",
       "LocationID                  696\n",
       "Borough                     696\n",
       "temperature                2912\n",
       "humidity                   2912\n",
       "wind speed                 2912\n",
       "cloud cover                2912\n",
       "amount of precipitation    2912\n",
       "dtype: int64"
      ]
     },
     "execution_count": 78,
     "metadata": {},
     "output_type": "execute_result"
    }
   ],
   "source": [
    "nyc_taxi_with_weather.isna().sum()"
   ]
  },
  {
   "cell_type": "code",
   "execution_count": 79,
   "id": "d0591e53",
   "metadata": {},
   "outputs": [
    {
     "name": "stdout",
     "output_type": "stream",
     "text": [
      "(4552, 18)\n"
     ]
    }
   ],
   "source": [
    "print(nyc_taxi_with_weather.shape)"
   ]
  },
  {
   "cell_type": "code",
   "execution_count": 80,
   "id": "c60a1e51",
   "metadata": {},
   "outputs": [],
   "source": [
    "nyc_taxi_with_weather=nyc_taxi_with_weather.sort_values(['transaction_date','transaction_hour']).reset_index().drop('index',axis=1)"
   ]
  },
  {
   "cell_type": "code",
   "execution_count": 81,
   "id": "6b200e40",
   "metadata": {},
   "outputs": [
    {
     "name": "stderr",
     "output_type": "stream",
     "text": [
      "C:\\Users\\ASUS\\AppData\\Local\\Temp\\ipykernel_34172\\1064252051.py:1: FutureWarning: DataFrame.interpolate with object dtype is deprecated and will raise in a future version. Call obj.infer_objects(copy=False) before interpolating instead.\n",
      "  nyc_taxi_with_weather=nyc_taxi_with_weather.interpolate()\n",
      "C:\\Users\\ASUS\\AppData\\Local\\Temp\\ipykernel_34172\\1064252051.py:2: FutureWarning: DataFrame.fillna with 'method' is deprecated and will raise in a future version. Use obj.ffill() or obj.bfill() instead.\n",
      "  nyc_taxi_with_weather=nyc_taxi_with_weather.fillna(method='bfill')\n"
     ]
    },
    {
     "data": {
      "text/plain": [
       "PULocationID               0\n",
       "transaction_date           0\n",
       "transaction_month          0\n",
       "transaction_day            0\n",
       "transaction_hour           0\n",
       "trip_distance              0\n",
       "total_amount               0\n",
       "count_of_transaction       0\n",
       "transaction_weekday        0\n",
       "weekend                    0\n",
       "is_holiday                 0\n",
       "LocationID                 0\n",
       "Borough                    1\n",
       "temperature                0\n",
       "humidity                   0\n",
       "wind speed                 0\n",
       "cloud cover                0\n",
       "amount of precipitation    0\n",
       "dtype: int64"
      ]
     },
     "execution_count": 81,
     "metadata": {},
     "output_type": "execute_result"
    }
   ],
   "source": [
    "nyc_taxi_with_weather=nyc_taxi_with_weather.interpolate()\n",
    "nyc_taxi_with_weather=nyc_taxi_with_weather.fillna(method='bfill')\n",
    "nyc_taxi_with_weather.isna().sum()"
   ]
  },
  {
   "cell_type": "code",
   "execution_count": 82,
   "id": "4f6a3ca6",
   "metadata": {},
   "outputs": [
    {
     "data": {
      "text/html": [
       "<div>\n",
       "<style scoped>\n",
       "    .dataframe tbody tr th:only-of-type {\n",
       "        vertical-align: middle;\n",
       "    }\n",
       "\n",
       "    .dataframe tbody tr th {\n",
       "        vertical-align: top;\n",
       "    }\n",
       "\n",
       "    .dataframe thead th {\n",
       "        text-align: right;\n",
       "    }\n",
       "</style>\n",
       "<table border=\"1\" class=\"dataframe\">\n",
       "  <thead>\n",
       "    <tr style=\"text-align: right;\">\n",
       "      <th></th>\n",
       "      <th>PULocationID</th>\n",
       "      <th>transaction_date</th>\n",
       "      <th>transaction_month</th>\n",
       "      <th>transaction_day</th>\n",
       "      <th>transaction_hour</th>\n",
       "      <th>trip_distance</th>\n",
       "      <th>total_amount</th>\n",
       "      <th>count_of_transaction</th>\n",
       "      <th>transaction_weekday</th>\n",
       "      <th>weekend</th>\n",
       "      <th>is_holiday</th>\n",
       "      <th>LocationID</th>\n",
       "      <th>Borough</th>\n",
       "      <th>temperature</th>\n",
       "      <th>humidity</th>\n",
       "      <th>wind speed</th>\n",
       "      <th>cloud cover</th>\n",
       "      <th>amount of precipitation</th>\n",
       "    </tr>\n",
       "  </thead>\n",
       "  <tbody>\n",
       "    <tr>\n",
       "      <th>0</th>\n",
       "      <td>1.0</td>\n",
       "      <td>2019-01-01</td>\n",
       "      <td>1</td>\n",
       "      <td>1</td>\n",
       "      <td>0</td>\n",
       "      <td>2.810215</td>\n",
       "      <td>15.501245</td>\n",
       "      <td>13256</td>\n",
       "      <td>1</td>\n",
       "      <td>False</td>\n",
       "      <td>True</td>\n",
       "      <td>1.0</td>\n",
       "      <td>EWR</td>\n",
       "      <td>8.3</td>\n",
       "      <td>97.0</td>\n",
       "      <td>0.0</td>\n",
       "      <td>1.0</td>\n",
       "      <td>29.0</td>\n",
       "    </tr>\n",
       "    <tr>\n",
       "      <th>1</th>\n",
       "      <td>2.0</td>\n",
       "      <td>2019-01-01</td>\n",
       "      <td>1</td>\n",
       "      <td>1</td>\n",
       "      <td>0</td>\n",
       "      <td>16.180625</td>\n",
       "      <td>65.178750</td>\n",
       "      <td>80</td>\n",
       "      <td>1</td>\n",
       "      <td>False</td>\n",
       "      <td>True</td>\n",
       "      <td>2.0</td>\n",
       "      <td>Queens</td>\n",
       "      <td>8.3</td>\n",
       "      <td>97.0</td>\n",
       "      <td>0.0</td>\n",
       "      <td>1.0</td>\n",
       "      <td>29.0</td>\n",
       "    </tr>\n",
       "    <tr>\n",
       "      <th>2</th>\n",
       "      <td>3.0</td>\n",
       "      <td>2019-01-01</td>\n",
       "      <td>1</td>\n",
       "      <td>1</td>\n",
       "      <td>0</td>\n",
       "      <td>3.983750</td>\n",
       "      <td>46.320000</td>\n",
       "      <td>8</td>\n",
       "      <td>1</td>\n",
       "      <td>False</td>\n",
       "      <td>True</td>\n",
       "      <td>3.0</td>\n",
       "      <td>Bronx</td>\n",
       "      <td>8.3</td>\n",
       "      <td>97.0</td>\n",
       "      <td>0.0</td>\n",
       "      <td>1.0</td>\n",
       "      <td>29.0</td>\n",
       "    </tr>\n",
       "    <tr>\n",
       "      <th>3</th>\n",
       "      <td>4.0</td>\n",
       "      <td>2019-01-01</td>\n",
       "      <td>1</td>\n",
       "      <td>1</td>\n",
       "      <td>0</td>\n",
       "      <td>19.890000</td>\n",
       "      <td>74.615000</td>\n",
       "      <td>4</td>\n",
       "      <td>1</td>\n",
       "      <td>False</td>\n",
       "      <td>True</td>\n",
       "      <td>4.0</td>\n",
       "      <td>Manhattan</td>\n",
       "      <td>8.3</td>\n",
       "      <td>97.0</td>\n",
       "      <td>0.0</td>\n",
       "      <td>1.0</td>\n",
       "      <td>29.0</td>\n",
       "    </tr>\n",
       "    <tr>\n",
       "      <th>4</th>\n",
       "      <td>5.0</td>\n",
       "      <td>2019-01-01</td>\n",
       "      <td>1</td>\n",
       "      <td>1</td>\n",
       "      <td>0</td>\n",
       "      <td>5.409107</td>\n",
       "      <td>63.491429</td>\n",
       "      <td>56</td>\n",
       "      <td>1</td>\n",
       "      <td>False</td>\n",
       "      <td>True</td>\n",
       "      <td>5.0</td>\n",
       "      <td>Staten Island</td>\n",
       "      <td>8.3</td>\n",
       "      <td>97.0</td>\n",
       "      <td>0.0</td>\n",
       "      <td>1.0</td>\n",
       "      <td>29.0</td>\n",
       "    </tr>\n",
       "  </tbody>\n",
       "</table>\n",
       "</div>"
      ],
      "text/plain": [
       "   PULocationID transaction_date  transaction_month  transaction_day  \\\n",
       "0           1.0       2019-01-01                  1                1   \n",
       "1           2.0       2019-01-01                  1                1   \n",
       "2           3.0       2019-01-01                  1                1   \n",
       "3           4.0       2019-01-01                  1                1   \n",
       "4           5.0       2019-01-01                  1                1   \n",
       "\n",
       "   transaction_hour  trip_distance  total_amount  count_of_transaction  \\\n",
       "0                 0       2.810215     15.501245                 13256   \n",
       "1                 0      16.180625     65.178750                    80   \n",
       "2                 0       3.983750     46.320000                     8   \n",
       "3                 0      19.890000     74.615000                     4   \n",
       "4                 0       5.409107     63.491429                    56   \n",
       "\n",
       "   transaction_weekday  weekend  is_holiday  LocationID        Borough  \\\n",
       "0                    1    False        True         1.0            EWR   \n",
       "1                    1    False        True         2.0         Queens   \n",
       "2                    1    False        True         3.0          Bronx   \n",
       "3                    1    False        True         4.0      Manhattan   \n",
       "4                    1    False        True         5.0  Staten Island   \n",
       "\n",
       "   temperature  humidity  wind speed  cloud cover  amount of precipitation  \n",
       "0          8.3      97.0         0.0          1.0                     29.0  \n",
       "1          8.3      97.0         0.0          1.0                     29.0  \n",
       "2          8.3      97.0         0.0          1.0                     29.0  \n",
       "3          8.3      97.0         0.0          1.0                     29.0  \n",
       "4          8.3      97.0         0.0          1.0                     29.0  "
      ]
     },
     "execution_count": 82,
     "metadata": {},
     "output_type": "execute_result"
    }
   ],
   "source": [
    "nyc_taxi_with_weather.head()"
   ]
  },
  {
   "cell_type": "code",
   "execution_count": 83,
   "id": "1f6acc50",
   "metadata": {},
   "outputs": [],
   "source": [
    "data_for_model=nyc_taxi_with_weather.copy()"
   ]
  },
  {
   "cell_type": "code",
   "execution_count": 84,
   "id": "6fb31b18",
   "metadata": {},
   "outputs": [],
   "source": [
    "categorical_features=['PULocationID','transaction_month','transaction_day','transaction_hour','transaction_weekday','weekend','is_holiday','Borough']\n",
    "input_features=categorical_features+['temperature','humidity','wind speed','cloud cover','amount of precipitation']\n",
    "target_feature='total_amount'"
   ]
  },
  {
   "cell_type": "code",
   "execution_count": 85,
   "id": "1c27794d",
   "metadata": {},
   "outputs": [],
   "source": [
    "from sklearn.model_selection import train_test_split\n",
    "x_axis=data_for_model[input_features]\n",
    "y_axis=data_for_model[target_feature]\n",
    "#one hot encoding\n",
    "x_encode=pd.get_dummies(x_axis)\n",
    "x_train,x_test,y_train,y_test=train_test_split(x_encode,y_axis,test_size=0.33,random_state=42)"
   ]
  },
  {
   "cell_type": "code",
   "execution_count": 86,
   "id": "6d7c7e44",
   "metadata": {},
   "outputs": [
    {
     "name": "stdout",
     "output_type": "stream",
     "text": [
      "(3049, 17)\n",
      "(3049,)\n"
     ]
    }
   ],
   "source": [
    "print(x_train.shape)\n",
    "print(y_train.shape)"
   ]
  },
  {
   "cell_type": "code",
   "execution_count": 87,
   "id": "2ed384d4",
   "metadata": {},
   "outputs": [
    {
     "data": {
      "text/html": [
       "<style>#sk-container-id-2 {color: black;background-color: white;}#sk-container-id-2 pre{padding: 0;}#sk-container-id-2 div.sk-toggleable {background-color: white;}#sk-container-id-2 label.sk-toggleable__label {cursor: pointer;display: block;width: 100%;margin-bottom: 0;padding: 0.3em;box-sizing: border-box;text-align: center;}#sk-container-id-2 label.sk-toggleable__label-arrow:before {content: \"▸\";float: left;margin-right: 0.25em;color: #696969;}#sk-container-id-2 label.sk-toggleable__label-arrow:hover:before {color: black;}#sk-container-id-2 div.sk-estimator:hover label.sk-toggleable__label-arrow:before {color: black;}#sk-container-id-2 div.sk-toggleable__content {max-height: 0;max-width: 0;overflow: hidden;text-align: left;background-color: #f0f8ff;}#sk-container-id-2 div.sk-toggleable__content pre {margin: 0.2em;color: black;border-radius: 0.25em;background-color: #f0f8ff;}#sk-container-id-2 input.sk-toggleable__control:checked~div.sk-toggleable__content {max-height: 200px;max-width: 100%;overflow: auto;}#sk-container-id-2 input.sk-toggleable__control:checked~label.sk-toggleable__label-arrow:before {content: \"▾\";}#sk-container-id-2 div.sk-estimator input.sk-toggleable__control:checked~label.sk-toggleable__label {background-color: #d4ebff;}#sk-container-id-2 div.sk-label input.sk-toggleable__control:checked~label.sk-toggleable__label {background-color: #d4ebff;}#sk-container-id-2 input.sk-hidden--visually {border: 0;clip: rect(1px 1px 1px 1px);clip: rect(1px, 1px, 1px, 1px);height: 1px;margin: -1px;overflow: hidden;padding: 0;position: absolute;width: 1px;}#sk-container-id-2 div.sk-estimator {font-family: monospace;background-color: #f0f8ff;border: 1px dotted black;border-radius: 0.25em;box-sizing: border-box;margin-bottom: 0.5em;}#sk-container-id-2 div.sk-estimator:hover {background-color: #d4ebff;}#sk-container-id-2 div.sk-parallel-item::after {content: \"\";width: 100%;border-bottom: 1px solid gray;flex-grow: 1;}#sk-container-id-2 div.sk-label:hover label.sk-toggleable__label {background-color: #d4ebff;}#sk-container-id-2 div.sk-serial::before {content: \"\";position: absolute;border-left: 1px solid gray;box-sizing: border-box;top: 0;bottom: 0;left: 50%;z-index: 0;}#sk-container-id-2 div.sk-serial {display: flex;flex-direction: column;align-items: center;background-color: white;padding-right: 0.2em;padding-left: 0.2em;position: relative;}#sk-container-id-2 div.sk-item {position: relative;z-index: 1;}#sk-container-id-2 div.sk-parallel {display: flex;align-items: stretch;justify-content: center;background-color: white;position: relative;}#sk-container-id-2 div.sk-item::before, #sk-container-id-2 div.sk-parallel-item::before {content: \"\";position: absolute;border-left: 1px solid gray;box-sizing: border-box;top: 0;bottom: 0;left: 50%;z-index: -1;}#sk-container-id-2 div.sk-parallel-item {display: flex;flex-direction: column;z-index: 1;position: relative;background-color: white;}#sk-container-id-2 div.sk-parallel-item:first-child::after {align-self: flex-end;width: 50%;}#sk-container-id-2 div.sk-parallel-item:last-child::after {align-self: flex-start;width: 50%;}#sk-container-id-2 div.sk-parallel-item:only-child::after {width: 0;}#sk-container-id-2 div.sk-dashed-wrapped {border: 1px dashed gray;margin: 0 0.4em 0.5em 0.4em;box-sizing: border-box;padding-bottom: 0.4em;background-color: white;}#sk-container-id-2 div.sk-label label {font-family: monospace;font-weight: bold;display: inline-block;line-height: 1.2em;}#sk-container-id-2 div.sk-label-container {text-align: center;}#sk-container-id-2 div.sk-container {/* jupyter's `normalize.less` sets `[hidden] { display: none; }` but bootstrap.min.css set `[hidden] { display: none !important; }` so we also need the `!important` here to be able to override the default hidden behavior on the sphinx rendered scikit-learn.org. See: https://github.com/scikit-learn/scikit-learn/issues/21755 */display: inline-block !important;position: relative;}#sk-container-id-2 div.sk-text-repr-fallback {display: none;}</style><div id=\"sk-container-id-2\" class=\"sk-top-container\"><div class=\"sk-text-repr-fallback\"><pre>DecisionTreeRegressor(max_depth=10)</pre><b>In a Jupyter environment, please rerun this cell to show the HTML representation or trust the notebook. <br />On GitHub, the HTML representation is unable to render, please try loading this page with nbviewer.org.</b></div><div class=\"sk-container\" hidden><div class=\"sk-item\"><div class=\"sk-estimator sk-toggleable\"><input class=\"sk-toggleable__control sk-hidden--visually\" id=\"sk-estimator-id-2\" type=\"checkbox\" checked><label for=\"sk-estimator-id-2\" class=\"sk-toggleable__label sk-toggleable__label-arrow\">DecisionTreeRegressor</label><div class=\"sk-toggleable__content\"><pre>DecisionTreeRegressor(max_depth=10)</pre></div></div></div></div></div>"
      ],
      "text/plain": [
       "DecisionTreeRegressor(max_depth=10)"
      ]
     },
     "execution_count": 87,
     "metadata": {},
     "output_type": "execute_result"
    }
   ],
   "source": [
    "from sklearn.tree import DecisionTreeRegressor\n",
    "decision_tree=DecisionTreeRegressor(max_depth=10)\n",
    "decision_tree.fit(x_train,y_train)"
   ]
  },
  {
   "cell_type": "code",
   "execution_count": 88,
   "id": "4f4b4c0e",
   "metadata": {},
   "outputs": [
    {
     "name": "stdout",
     "output_type": "stream",
     "text": [
      "mean absolute error=  7.2193182322924665\n",
      "mean squared error=  235.0657537531617\n",
      "root mean square error=  15.331854217711623\n",
      "r2=  0.6805507641542142\n"
     ]
    }
   ],
   "source": [
    "model_at_hand=decision_tree\n",
    "y_pred=model_at_hand.predict(x_test)\n",
    "from sklearn.metrics import mean_absolute_error\n",
    "from sklearn.metrics import mean_squared_error\n",
    "from sklearn.metrics import r2_score\n",
    "from math import sqrt\n",
    "print('mean absolute error= ',mean_absolute_error(y_test,y_pred))\n",
    "print('mean squared error= ',mean_squared_error(y_test,y_pred))\n",
    "print('root mean square error= ',sqrt(mean_squared_error(y_test,y_pred)))\n",
    "print('r2= ',r2_score(y_test,y_pred))"
   ]
  },
  {
   "cell_type": "code",
   "execution_count": 89,
   "id": "a8aaf537",
   "metadata": {},
   "outputs": [
    {
     "data": {
      "text/plain": [
       "<Axes: xlabel='true', ylabel='pred'>"
      ]
     },
     "execution_count": 89,
     "metadata": {},
     "output_type": "execute_result"
    },
    {
     "data": {
      "image/png": "[encoded data removed]",
      "text/plain": [
       "<Figure size 2000x1000 with 1 Axes>"
      ]
     },
     "metadata": {},
     "output_type": "display_data"
    }
   ],
   "source": [
    "data={'true':y_test,'pred':y_pred}\n",
    "result=pd.DataFrame(data)\n",
    "result.plot(figsize=(20,10),kind=\"scatter\",x='true',y='pred')"
   ]
  },
  {
   "cell_type": "code",
   "execution_count": 90,
   "id": "55a05c5f",
   "metadata": {},
   "outputs": [
    {
     "data": {
      "text/html": [
       "<style>#sk-container-id-3 {color: black;background-color: white;}#sk-container-id-3 pre{padding: 0;}#sk-container-id-3 div.sk-toggleable {background-color: white;}#sk-container-id-3 label.sk-toggleable__label {cursor: pointer;display: block;width: 100%;margin-bottom: 0;padding: 0.3em;box-sizing: border-box;text-align: center;}#sk-container-id-3 label.sk-toggleable__label-arrow:before {content: \"▸\";float: left;margin-right: 0.25em;color: #696969;}#sk-container-id-3 label.sk-toggleable__label-arrow:hover:before {color: black;}#sk-container-id-3 div.sk-estimator:hover label.sk-toggleable__label-arrow:before {color: black;}#sk-container-id-3 div.sk-toggleable__content {max-height: 0;max-width: 0;overflow: hidden;text-align: left;background-color: #f0f8ff;}#sk-container-id-3 div.sk-toggleable__content pre {margin: 0.2em;color: black;border-radius: 0.25em;background-color: #f0f8ff;}#sk-container-id-3 input.sk-toggleable__control:checked~div.sk-toggleable__content {max-height: 200px;max-width: 100%;overflow: auto;}#sk-container-id-3 input.sk-toggleable__control:checked~label.sk-toggleable__label-arrow:before {content: \"▾\";}#sk-container-id-3 div.sk-estimator input.sk-toggleable__control:checked~label.sk-toggleable__label {background-color: #d4ebff;}#sk-container-id-3 div.sk-label input.sk-toggleable__control:checked~label.sk-toggleable__label {background-color: #d4ebff;}#sk-container-id-3 input.sk-hidden--visually {border: 0;clip: rect(1px 1px 1px 1px);clip: rect(1px, 1px, 1px, 1px);height: 1px;margin: -1px;overflow: hidden;padding: 0;position: absolute;width: 1px;}#sk-container-id-3 div.sk-estimator {font-family: monospace;background-color: #f0f8ff;border: 1px dotted black;border-radius: 0.25em;box-sizing: border-box;margin-bottom: 0.5em;}#sk-container-id-3 div.sk-estimator:hover {background-color: #d4ebff;}#sk-container-id-3 div.sk-parallel-item::after {content: \"\";width: 100%;border-bottom: 1px solid gray;flex-grow: 1;}#sk-container-id-3 div.sk-label:hover label.sk-toggleable__label {background-color: #d4ebff;}#sk-container-id-3 div.sk-serial::before {content: \"\";position: absolute;border-left: 1px solid gray;box-sizing: border-box;top: 0;bottom: 0;left: 50%;z-index: 0;}#sk-container-id-3 div.sk-serial {display: flex;flex-direction: column;align-items: center;background-color: white;padding-right: 0.2em;padding-left: 0.2em;position: relative;}#sk-container-id-3 div.sk-item {position: relative;z-index: 1;}#sk-container-id-3 div.sk-parallel {display: flex;align-items: stretch;justify-content: center;background-color: white;position: relative;}#sk-container-id-3 div.sk-item::before, #sk-container-id-3 div.sk-parallel-item::before {content: \"\";position: absolute;border-left: 1px solid gray;box-sizing: border-box;top: 0;bottom: 0;left: 50%;z-index: -1;}#sk-container-id-3 div.sk-parallel-item {display: flex;flex-direction: column;z-index: 1;position: relative;background-color: white;}#sk-container-id-3 div.sk-parallel-item:first-child::after {align-self: flex-end;width: 50%;}#sk-container-id-3 div.sk-parallel-item:last-child::after {align-self: flex-start;width: 50%;}#sk-container-id-3 div.sk-parallel-item:only-child::after {width: 0;}#sk-container-id-3 div.sk-dashed-wrapped {border: 1px dashed gray;margin: 0 0.4em 0.5em 0.4em;box-sizing: border-box;padding-bottom: 0.4em;background-color: white;}#sk-container-id-3 div.sk-label label {font-family: monospace;font-weight: bold;display: inline-block;line-height: 1.2em;}#sk-container-id-3 div.sk-label-container {text-align: center;}#sk-container-id-3 div.sk-container {/* jupyter's `normalize.less` sets `[hidden] { display: none; }` but bootstrap.min.css set `[hidden] { display: none !important; }` so we also need the `!important` here to be able to override the default hidden behavior on the sphinx rendered scikit-learn.org. See: https://github.com/scikit-learn/scikit-learn/issues/21755 */display: inline-block !important;position: relative;}#sk-container-id-3 div.sk-text-repr-fallback {display: none;}</style><div id=\"sk-container-id-3\" class=\"sk-top-container\"><div class=\"sk-text-repr-fallback\"><pre>RandomForestRegressor()</pre><b>In a Jupyter environment, please rerun this cell to show the HTML representation or trust the notebook. <br />On GitHub, the HTML representation is unable to render, please try loading this page with nbviewer.org.</b></div><div class=\"sk-container\" hidden><div class=\"sk-item\"><div class=\"sk-estimator sk-toggleable\"><input class=\"sk-toggleable__control sk-hidden--visually\" id=\"sk-estimator-id-3\" type=\"checkbox\" checked><label for=\"sk-estimator-id-3\" class=\"sk-toggleable__label sk-toggleable__label-arrow\">RandomForestRegressor</label><div class=\"sk-toggleable__content\"><pre>RandomForestRegressor()</pre></div></div></div></div></div>"
      ],
      "text/plain": [
       "RandomForestRegressor()"
      ]
     },
     "execution_count": 90,
     "metadata": {},
     "output_type": "execute_result"
    }
   ],
   "source": [
    "#random forest\n",
    "from sklearn.ensemble import RandomForestRegressor\n",
    "from sklearn.ensemble import RandomForestRegressor\n",
    "random_forest=RandomForestRegressor()\n",
    "random_forest.fit(x_train,y_train)"
   ]
  },
  {
   "cell_type": "code",
   "execution_count": 91,
   "id": "c0d9ad27",
   "metadata": {},
   "outputs": [
    {
     "name": "stdout",
     "output_type": "stream",
     "text": [
      "mean absolute error=  6.7591032123487444\n",
      "mean squared error=  168.33574887749623\n",
      "root mean square error=  12.974426726352737\n",
      "r2=  0.7712353863297665\n"
     ]
    }
   ],
   "source": [
    "model_at_hand=random_forest\n",
    "y_pred=model_at_hand.predict(x_test)\n",
    "from sklearn.metrics import mean_absolute_error\n",
    "from sklearn.metrics import mean_squared_error\n",
    "from sklearn.metrics import r2_score\n",
    "from math import sqrt\n",
    "print('mean absolute error= ',mean_absolute_error(y_test,y_pred))\n",
    "print('mean squared error= ',mean_squared_error(y_test,y_pred))\n",
    "print('root mean square error= ',sqrt(mean_squared_error(y_test,y_pred)))\n",
    "print('r2= ',r2_score(y_test,y_pred))"
   ]
  },
  {
   "cell_type": "code",
   "execution_count": 92,
   "id": "6edfad57",
   "metadata": {},
   "outputs": [
    {
     "data": {
      "text/plain": [
       "<Axes: xlabel='true', ylabel='pred'>"
      ]
     },
     "execution_count": 92,
     "metadata": {},
     "output_type": "execute_result"
    },
    {
     "data": {
      "image/png": "[encoded data removed]",
      "text/plain": [
       "<Figure size 2000x1000 with 1 Axes>"
      ]
     },
     "metadata": {},
     "output_type": "display_data"
    }
   ],
   "source": [
    "data={'true':y_test,'pred':y_pred}\n",
    "result=pd.DataFrame(data)\n",
    "result.plot(figsize=(20,10),kind=\"scatter\",x='true',y='pred')"
   ]
  },
  {
   "cell_type": "code",
   "execution_count": 93,
   "id": "aac2674a",
   "metadata": {},
   "outputs": [
    {
     "data": {
      "text/html": [
       "<style>#sk-container-id-4 {color: black;background-color: white;}#sk-container-id-4 pre{padding: 0;}#sk-container-id-4 div.sk-toggleable {background-color: white;}#sk-container-id-4 label.sk-toggleable__label {cursor: pointer;display: block;width: 100%;margin-bottom: 0;padding: 0.3em;box-sizing: border-box;text-align: center;}#sk-container-id-4 label.sk-toggleable__label-arrow:before {content: \"▸\";float: left;margin-right: 0.25em;color: #696969;}#sk-container-id-4 label.sk-toggleable__label-arrow:hover:before {color: black;}#sk-container-id-4 div.sk-estimator:hover label.sk-toggleable__label-arrow:before {color: black;}#sk-container-id-4 div.sk-toggleable__content {max-height: 0;max-width: 0;overflow: hidden;text-align: left;background-color: #f0f8ff;}#sk-container-id-4 div.sk-toggleable__content pre {margin: 0.2em;color: black;border-radius: 0.25em;background-color: #f0f8ff;}#sk-container-id-4 input.sk-toggleable__control:checked~div.sk-toggleable__content {max-height: 200px;max-width: 100%;overflow: auto;}#sk-container-id-4 input.sk-toggleable__control:checked~label.sk-toggleable__label-arrow:before {content: \"▾\";}#sk-container-id-4 div.sk-estimator input.sk-toggleable__control:checked~label.sk-toggleable__label {background-color: #d4ebff;}#sk-container-id-4 div.sk-label input.sk-toggleable__control:checked~label.sk-toggleable__label {background-color: #d4ebff;}#sk-container-id-4 input.sk-hidden--visually {border: 0;clip: rect(1px 1px 1px 1px);clip: rect(1px, 1px, 1px, 1px);height: 1px;margin: -1px;overflow: hidden;padding: 0;position: absolute;width: 1px;}#sk-container-id-4 div.sk-estimator {font-family: monospace;background-color: #f0f8ff;border: 1px dotted black;border-radius: 0.25em;box-sizing: border-box;margin-bottom: 0.5em;}#sk-container-id-4 div.sk-estimator:hover {background-color: #d4ebff;}#sk-container-id-4 div.sk-parallel-item::after {content: \"\";width: 100%;border-bottom: 1px solid gray;flex-grow: 1;}#sk-container-id-4 div.sk-label:hover label.sk-toggleable__label {background-color: #d4ebff;}#sk-container-id-4 div.sk-serial::before {content: \"\";position: absolute;border-left: 1px solid gray;box-sizing: border-box;top: 0;bottom: 0;left: 50%;z-index: 0;}#sk-container-id-4 div.sk-serial {display: flex;flex-direction: column;align-items: center;background-color: white;padding-right: 0.2em;padding-left: 0.2em;position: relative;}#sk-container-id-4 div.sk-item {position: relative;z-index: 1;}#sk-container-id-4 div.sk-parallel {display: flex;align-items: stretch;justify-content: center;background-color: white;position: relative;}#sk-container-id-4 div.sk-item::before, #sk-container-id-4 div.sk-parallel-item::before {content: \"\";position: absolute;border-left: 1px solid gray;box-sizing: border-box;top: 0;bottom: 0;left: 50%;z-index: -1;}#sk-container-id-4 div.sk-parallel-item {display: flex;flex-direction: column;z-index: 1;position: relative;background-color: white;}#sk-container-id-4 div.sk-parallel-item:first-child::after {align-self: flex-end;width: 50%;}#sk-container-id-4 div.sk-parallel-item:last-child::after {align-self: flex-start;width: 50%;}#sk-container-id-4 div.sk-parallel-item:only-child::after {width: 0;}#sk-container-id-4 div.sk-dashed-wrapped {border: 1px dashed gray;margin: 0 0.4em 0.5em 0.4em;box-sizing: border-box;padding-bottom: 0.4em;background-color: white;}#sk-container-id-4 div.sk-label label {font-family: monospace;font-weight: bold;display: inline-block;line-height: 1.2em;}#sk-container-id-4 div.sk-label-container {text-align: center;}#sk-container-id-4 div.sk-container {/* jupyter's `normalize.less` sets `[hidden] { display: none; }` but bootstrap.min.css set `[hidden] { display: none !important; }` so we also need the `!important` here to be able to override the default hidden behavior on the sphinx rendered scikit-learn.org. See: https://github.com/scikit-learn/scikit-learn/issues/21755 */display: inline-block !important;position: relative;}#sk-container-id-4 div.sk-text-repr-fallback {display: none;}</style><div id=\"sk-container-id-4\" class=\"sk-top-container\"><div class=\"sk-text-repr-fallback\"><pre>GradientBoostingRegressor()</pre><b>In a Jupyter environment, please rerun this cell to show the HTML representation or trust the notebook. <br />On GitHub, the HTML representation is unable to render, please try loading this page with nbviewer.org.</b></div><div class=\"sk-container\" hidden><div class=\"sk-item\"><div class=\"sk-estimator sk-toggleable\"><input class=\"sk-toggleable__control sk-hidden--visually\" id=\"sk-estimator-id-4\" type=\"checkbox\" checked><label for=\"sk-estimator-id-4\" class=\"sk-toggleable__label sk-toggleable__label-arrow\">GradientBoostingRegressor</label><div class=\"sk-toggleable__content\"><pre>GradientBoostingRegressor()</pre></div></div></div></div></div>"
      ],
      "text/plain": [
       "GradientBoostingRegressor()"
      ]
     },
     "execution_count": 93,
     "metadata": {},
     "output_type": "execute_result"
    }
   ],
   "source": [
    "#gradient boosting\n",
    "from sklearn.ensemble import GradientBoostingRegressor\n",
    "gradient_boost=GradientBoostingRegressor()\n",
    "gradient_boost.fit(x_train,y_train)"
   ]
  },
  {
   "cell_type": "code",
   "execution_count": 94,
   "id": "b5297412",
   "metadata": {},
   "outputs": [
    {
     "name": "stdout",
     "output_type": "stream",
     "text": [
      "mean absolute error=  7.1004480968398225\n",
      "mean squared error=  150.5765380578628\n",
      "root mean square error=  12.270963208235235\n",
      "r2=  0.7953697667530136\n"
     ]
    }
   ],
   "source": [
    "model_at_hand=gradient_boost\n",
    "y_pred=model_at_hand.predict(x_test)\n",
    "from sklearn.metrics import mean_absolute_error\n",
    "from sklearn.metrics import mean_squared_error\n",
    "from sklearn.metrics import r2_score\n",
    "from math import sqrt\n",
    "print('mean absolute error= ',mean_absolute_error(y_test,y_pred))\n",
    "print('mean squared error= ',mean_squared_error(y_test,y_pred))\n",
    "print('root mean square error= ',sqrt(mean_squared_error(y_test,y_pred)))\n",
    "print('r2= ',r2_score(y_test,y_pred))"
   ]
  },
  {
   "cell_type": "code",
   "execution_count": 95,
   "id": "cf96011a",
   "metadata": {},
   "outputs": [
    {
     "data": {
      "text/plain": [
       "<Axes: xlabel='true', ylabel='pred'>"
      ]
     },
     "execution_count": 95,
     "metadata": {},
     "output_type": "execute_result"
    },
    {
     "data": {
      "image/png": "[encoded data removed]",
      "text/plain": [
       "<Figure size 2000x1000 with 1 Axes>"
      ]
     },
     "metadata": {},
     "output_type": "display_data"
    }
   ],
   "source": [
    "data={'true':y_test,'pred':y_pred}\n",
    "result=pd.DataFrame(data)\n",
    "result.plot(figsize=(20,10),kind=\"scatter\",x='true',y='pred')"
   ]
  },
  {
   "cell_type": "code",
   "execution_count": 96,
   "id": "b2bbfd7c",
   "metadata": {},
   "outputs": [],
   "source": [
    "#(pd.Series(model_at_hand.feature_importances_, index=x_train.columns).nlargest(10).plot(kind='barh')) "
   ]
  }
 ],
 "metadata": {
  "kernelspec": {
   "display_name": "Python 3 (ipykernel)",
   "language": "python",
   "name": "python3"
  },
  "language_info": {
   "codemirror_mode": {
    "name": "ipython",
    "version": 3
   },
   "file_extension": ".py",
   "mimetype": "text/x-python",
   "name": "python",
   "nbconvert_exporter": "python",
   "pygments_lexer": "ipython3",
   "version": "3.11.7"
  }
 },
 "nbformat": 4,
 "nbformat_minor": 5
}
